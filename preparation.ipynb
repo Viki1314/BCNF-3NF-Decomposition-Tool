{
 "cells": [
  {
   "attachments": {},
   "cell_type": "markdown",
   "metadata": {},
   "source": [
    "**PART 1 - 初始化 关系模式R 和 函数依赖集合F**\n",
    "\n",
    "    例如：\n",
    "        * R = (ABCDEF)\n",
    "        * F = {A → B, B → C}"
   ]
  },
  {
   "cell_type": "code",
   "execution_count": 2,
   "metadata": {},
   "outputs": [],
   "source": [
    "R = ['A','B','C','D','E','F']\n",
    "\n",
    "F = [[['A'],['B']],[['B'],['C','D']],[['D'],['E']],[['C','E'],['F']]]"
   ]
  },
  {
   "attachments": {},
   "cell_type": "markdown",
   "metadata": {},
   "source": [
    "**PART 2 - 计算 属性闭包集合{α+}**\n",
    "\n",
    "    先算出单个属性的闭包，再遍历F算出所有属性闭包"
   ]
  },
  {
   "cell_type": "code",
   "execution_count": 3,
   "metadata": {},
   "outputs": [],
   "source": [
    "def calculate_single_attribute_closure(original_alpha, F):\n",
    "    \"\"\"\n",
    "    此函数用于计算单个属性的属性闭包\n",
    "    ex:\n",
    "    输入:['A'], F\n",
    "    输出:['A','B','C','D','E','F'] \n",
    "    \"\"\"\n",
    "    alpha = original_alpha.copy()\n",
    "    if alpha == []:\n",
    "        return []\n",
    "    result = alpha.copy()\n",
    "    while True:\n",
    "        for alpha_i, beta_i in F:\n",
    "            #for α_i-->β_i, if α_i ⊂ result \n",
    "            if set(alpha_i).issubset(result):\n",
    "                # result = result ∪ α_i\n",
    "                result.extend([b for b in beta_i if b not in result])\n",
    "        #if not changed after a loop, the calculation is finished \n",
    "        # 结果不再改变，说明属性闭包计算完成\n",
    "        if result == alpha:\n",
    "            break\n",
    "        #if not finished, update alpha and continue calculations and comparisons \n",
    "        # 结果有所改变，继续计算和比较 \n",
    "        alpha = result \n",
    "    return result"
   ]
  },
  {
   "cell_type": "code",
   "execution_count": 4,
   "metadata": {},
   "outputs": [
    {
     "name": "stdout",
     "output_type": "stream",
     "text": [
      "['A']  -->  ['A', 'B', 'C', 'D', 'E', 'F']\n",
      "['B']  -->  ['B', 'C', 'D', 'E', 'F']\n",
      "['D']  -->  ['D', 'E']\n",
      "['C', 'E']  -->  ['C', 'E', 'F']\n"
     ]
    }
   ],
   "source": [
    "def calculate_attribute_closure_set( F ):\n",
    "    \"\"\"\n",
    "    用来计算所有的属性闭包\n",
    "    ex.\n",
    "    输入:函数依赖集合F\n",
    "    输出: \n",
    "    ['A']  -->  ['A', 'B', 'C', 'D', 'E', 'F']\n",
    "    ['B']  -->  ['B', 'C', 'D', 'E', 'F']\n",
    "    ['D']  -->  ['D', 'E']\n",
    "    ['C', 'E']  -->  ['C', 'E', 'F']\n",
    "    \"\"\"\n",
    "    #to store all attribute closures 用与存储所有的属性闭包\n",
    "    attribute_closure_set = []\n",
    "    for alpha, beta in F:\n",
    "        result = calculate_single_attribute_closure(alpha, F)\n",
    "        #to eliminate duplicate attribute closure 若属性闭包未重复，则添加\n",
    "        if [alpha,sorted(result)] not in attribute_closure_set:\n",
    "            attribute_closure_set.append([alpha,sorted(result)])\n",
    "    return attribute_closure_set \n",
    "\n",
    "#calculate all attribute closures\n",
    "attribute_closure_set = calculate_attribute_closure_set( F ) \n",
    "\n",
    "#print all attribute closures\n",
    "for alpha, alpha_closure in attribute_closure_set:\n",
    "    print(alpha,' --> ',alpha_closure)\n"
   ]
  },
  {
   "attachments": {},
   "cell_type": "markdown",
   "metadata": {},
   "source": [
    "**PART 3 - 计算 函数依赖闭包集合F+**\n",
    "\n",
    "    方法一：算出属性闭包{α+}后即可得到函数依赖闭包F+的近似\n",
    "    方法二：根据Armstrong's Axioms来得到完整的函数依赖闭包F+"
   ]
  },
  {
   "cell_type": "code",
   "execution_count": 5,
   "metadata": {},
   "outputs": [
    {
     "data": {
      "text/plain": [
       "[[['A'], ['A']],\n",
       " [['A'], ['B']],\n",
       " [['A'], ['C']],\n",
       " [['A'], ['D']],\n",
       " [['A'], ['E']],\n",
       " [['A'], ['F']],\n",
       " [['B'], ['B']],\n",
       " [['B'], ['C']],\n",
       " [['B'], ['D']],\n",
       " [['B'], ['E']],\n",
       " [['B'], ['F']],\n",
       " [['D'], ['D']],\n",
       " [['D'], ['E']],\n",
       " [['C', 'E'], ['C']],\n",
       " [['C', 'E'], ['E']],\n",
       " [['C', 'E'], ['F']]]"
      ]
     },
     "execution_count": 5,
     "metadata": {},
     "output_type": "execute_result"
    }
   ],
   "source": [
    "F = [[['A'],['B']],[['B'],['C','D']],[['D'],['E']],[['C','E'],['F']]]\n",
    "\n",
    "def calculate_function_dependency_closure_set_by_attribute_closure_set(F):\n",
    "    \"\"\"\n",
    "    此函数用来计算函数依赖集合闭包F+ \n",
    "    \"\"\"\n",
    "    function_closure_set = []\n",
    "    attribute_closure_set = calculate_attribute_closure_set(F)\n",
    "    for alpha, beta in attribute_closure_set:\n",
    "        for attribute in beta:\n",
    "            function_closure_set.append([alpha, [attribute]])\n",
    "    return function_closure_set\n",
    "\n",
    "calculate_function_dependency_closure_set_by_attribute_closure_set(F)\n"
   ]
  },
  {
   "cell_type": "code",
   "execution_count": 44,
   "metadata": {},
   "outputs": [
    {
     "data": {
      "text/plain": [
       "[[['A'], ['A']],\n",
       " [['A'], ['B']],\n",
       " [['A'], ['C']],\n",
       " [['A'], ['A', 'B']],\n",
       " [['A'], ['A', 'C']],\n",
       " [['A'], ['B', 'C']],\n",
       " [['A'], ['A', 'B', 'C']],\n",
       " [['B'], ['B']],\n",
       " [['B'], ['C']],\n",
       " [['B'], ['B', 'C']],\n",
       " [['C'], ['C']],\n",
       " [['A', 'B'], ['B']],\n",
       " [['A', 'B'], ['C']],\n",
       " [['A', 'B'], ['A', 'B']],\n",
       " [['A', 'B'], ['A', 'C']],\n",
       " [['A', 'B'], ['B', 'C']],\n",
       " [['A', 'B'], ['A', 'B', 'C']],\n",
       " [['A', 'C'], ['C']],\n",
       " [['A', 'C'], ['A', 'C']],\n",
       " [['A', 'C'], ['B', 'C']],\n",
       " [['A', 'C'], ['A', 'B', 'C']],\n",
       " [['B', 'C'], ['C']],\n",
       " [['B', 'C'], ['B', 'C']],\n",
       " [['A', 'B', 'C'], ['C']],\n",
       " [['A', 'B', 'C'], ['A', 'C']],\n",
       " [['A', 'B', 'C'], ['B', 'C']],\n",
       " [['A', 'B', 'C'], ['A', 'B', 'C']]]"
      ]
     },
     "execution_count": 44,
     "metadata": {},
     "output_type": "execute_result"
    }
   ],
   "source": [
    "R = ['A','B','C']\n",
    "F = [[['A'],['B']], [['B'],['C']]]\n",
    "\n",
    "def get_subsets(s):\n",
    "    \"\"\"\n",
    "    此函数用来计算集合的子集\n",
    "    ex.\n",
    "    输入:['A','B']\n",
    "    输出:[[],['A'],['B'],['A','B']]\n",
    "    #这个函数会使传入的s被修改, 需传入s.copy()\n",
    "    \"\"\"\n",
    "    if not s:\n",
    "        return [[]]\n",
    "    x = s.pop()\n",
    "    subsets = get_subsets(s)\n",
    "    return subsets + [subset + [x] for subset in subsets]\n",
    "\n",
    "def reflexive_rule(R,F):\n",
    "    \"\"\"  \n",
    "    此函数运用Armstrong定理中的Reflexive rule来计算函数依赖闭包集合\n",
    "    \"\"\"\n",
    "    new_F = F.copy()\n",
    "    for attribute in R:\n",
    "        if [[attribute],[attribute]] not in new_F:\n",
    "            new_F.append([[attribute],[attribute]])\n",
    "    return new_F\n",
    "\n",
    "def augmentation_rule(R, F):\n",
    "    \"\"\"  \n",
    "    此函数运用Armstrong定理中的Augmentation rule来计算函数依赖闭包集合\n",
    "    \"\"\"\n",
    "    R_subsets = get_subsets(R.copy())\n",
    "    R_subsets.remove([])\n",
    "    new_F = F.copy()\n",
    "    for alpha, beta in F:\n",
    "        for subset in R_subsets:\n",
    "            augmentation_alpha = sorted(list(set(subset) | set(alpha)))\n",
    "            augmentation_beta = sorted(list(set(subset) | set(beta)))\n",
    "            if [augmentation_alpha, augmentation_beta] not in new_F:\n",
    "                new_F.append([augmentation_alpha, augmentation_beta])\n",
    "    return new_F\n",
    "\n",
    "def transitivity_rule(R, F):\n",
    "    \"\"\"  \n",
    "    此函数运用Armstrong定理中的Transitivity rule来计算函数依赖闭包集合\n",
    "    \"\"\"\n",
    "    new_F = F.copy()\n",
    "    for alpha, beta in F:\n",
    "        for alpha_i, beta_i in F:\n",
    "            if beta == alpha_i and [alpha,beta_i] not in new_F:\n",
    "                new_F.append([alpha,beta_i])\n",
    "    return new_F\n",
    "\n",
    "def calculate_function_dependency_closure_set_by_armstrong_axioms(R,F):\n",
    "    \"\"\"  \n",
    "    此函数运用Armstrong定理来计算函数依赖闭包集合\n",
    "    输入 R, F\n",
    "    输出 F+\n",
    "    \"\"\"\n",
    "    F = reflexive_rule(R, F)\n",
    "    F = augmentation_rule(R, F)\n",
    "    F_original = F.copy()\n",
    "    while True:\n",
    "        F = transitivity_rule(R,F)\n",
    "        if F == F_original:\n",
    "            break\n",
    "        else:\n",
    "            F_original = F\n",
    "    for i, (alpha, beta) in enumerate(F):\n",
    "        F[i] = [sorted(alpha), sorted(beta)]\n",
    "    F.sort(key=lambda x: (len(x[0]), x[0], len(x[1]), x[1]))\n",
    "    return F\n",
    "\n",
    "calculate_function_dependency_closure_set_by_armstrong_axioms(R,F)\n",
    "\n"
   ]
  },
  {
   "attachments": {},
   "cell_type": "markdown",
   "metadata": {},
   "source": [
    "**PART 4 - 计算 候选码Candidat key**\n",
    "\n",
    "    候选码是最小的超码"
   ]
  },
  {
   "cell_type": "code",
   "execution_count": 6,
   "metadata": {},
   "outputs": [
    {
     "name": "stdout",
     "output_type": "stream",
     "text": [
      "[['A']]\n"
     ]
    }
   ],
   "source": [
    "def get_subsets(s):\n",
    "    \"\"\"\n",
    "    此函数用来计算集合的子集\n",
    "    ex.\n",
    "    输入:['A','B']\n",
    "    输出:[[],['A'],['B'],['A','B']]\n",
    "    #这个函数会使传入的s被修改, 需传入s.copy()\n",
    "    \"\"\"\n",
    "    if not s:\n",
    "        return [[]]\n",
    "    x = s.pop()\n",
    "    subsets = get_subsets(s)\n",
    "    return subsets + [subset + [x] for subset in subsets]\n",
    "\n",
    "def get_proper_subsets(s):\n",
    "    \"\"\"\n",
    "    此函数用来计算集合的真子集\n",
    "    ex.\n",
    "    输入:['A','B']\n",
    "    输出:[[],['A'],['B']]\n",
    "    \"\"\"\n",
    "    s_copy = s.copy()\n",
    "    temp = s.copy()\n",
    "    subsets = get_subsets(temp)\n",
    "    subsets.remove(s_copy)\n",
    "    return subsets\n",
    "\n",
    "def determine_candidate_key(alpha,F):\n",
    "    \"\"\"\n",
    "    此函数用来判断属性集合是否为候选码\n",
    "    ex.\n",
    "    输入:['A'],F\n",
    "    输出:True\n",
    "    输入:['B']\n",
    "    输出:False\n",
    "    输入:['A','B']\n",
    "    输出:False(此为超码而不是候选码)\n",
    "    \"\"\"\n",
    "    if(set(R).issubset(calculate_single_attribute_closure(alpha,F))):\n",
    "\n",
    "        proper_subsets_of_alpha = get_proper_subsets(alpha)\n",
    "        sorted_proper_subsets_of_alpha = sorted(proper_subsets_of_alpha, key=len, reverse=True)\n",
    "\n",
    "        is_candidate_key = True\n",
    "        for item in sorted_proper_subsets_of_alpha:\n",
    "            result = calculate_single_attribute_closure(item,F)\n",
    "            if set(R).issubset(result):\n",
    "                is_candidate_key = False\n",
    "                break\n",
    "        return is_candidate_key\n",
    "    return False\n",
    "\n",
    "def select_candidate_key(F):\n",
    "    \"\"\"\n",
    "    此函数用来算出候选码\n",
    "    ex.\n",
    "    输出:['A']\n",
    "    \"\"\"\n",
    "    candidate_key_set = []\n",
    "    for alpha, beta in F:\n",
    "        temp = alpha.copy()\n",
    "        if(determine_candidate_key(alpha,F)):\n",
    "            candidate_key_set.append(temp)\n",
    "    return candidate_key_set\n",
    "\n",
    "candidate_key_set = select_candidate_key(F)\n",
    "\n",
    "print(candidate_key_set)"
   ]
  },
  {
   "attachments": {},
   "cell_type": "markdown",
   "metadata": {},
   "source": [
    "**PART 5 - 计算 正则覆盖集Canonical cover set**\n",
    "\n",
    "    对于 α → β，先合并α相同的依赖，再剔除α和β中的extraneous attribute(s)"
   ]
  },
  {
   "cell_type": "code",
   "execution_count": 7,
   "metadata": {},
   "outputs": [
    {
     "name": "stdout",
     "output_type": "stream",
     "text": [
      "[[['A'], ['B', 'C']], [['B'], ['C']]]\n"
     ]
    }
   ],
   "source": [
    "def function_dependency_union(F):\n",
    "    \"\"\"\n",
    "    此函数返回合并后的函数依赖集合\n",
    "    ex.\n",
    "    F 中有 A-->B, B-->C, A-->C\n",
    "    返回 A-->(B,C) , B-->C\n",
    "    即 [[['A'], ['B', 'C']], [['B'], ['C']]]\n",
    "    \"\"\"\n",
    "    union_F = []\n",
    "    for alpha, beta in F:\n",
    "        union_beta = beta.copy()\n",
    "        for alpha_i, beta_i in F:\n",
    "            if alpha == alpha_i:\n",
    "                union_beta.extend([b for b in beta_i if b not in union_beta])\n",
    "        if [alpha,sorted(union_beta)] not in union_F:\n",
    "            union_F.append([alpha,sorted(union_beta)])\n",
    "    return union_F\n",
    "\n",
    "F_temperary = [[['A'],['B']],[['B'],['C']],[['A'],['C']]]\n",
    "\n",
    "print(function_dependency_union(F_temperary))\n"
   ]
  },
  {
   "cell_type": "code",
   "execution_count": 8,
   "metadata": {},
   "outputs": [
    {
     "name": "stdout",
     "output_type": "stream",
     "text": [
      "[[['A'], ['B']], [['B'], ['C']], [['A'], ['D']]]\n"
     ]
    }
   ],
   "source": [
    "union_F = [[['A'], ['B']], [['B'], ['C']], [['A','C'],['D']]]\n",
    "\n",
    "def eliminate_left_extraneous(union_F):\n",
    "    \"\"\" \n",
    "    此函数用来剔除依赖关系集合F中左侧的extraneous attribute\n",
    "    \"\"\"\n",
    "    for i, (alpha, beta) in enumerate(union_F):\n",
    "        replace = [alpha, beta]\n",
    "        for subset in get_proper_subsets(alpha):\n",
    "            if subset:\n",
    "                new_closure = calculate_single_attribute_closure(subset, union_F)\n",
    "                if set(beta).issubset(new_closure) and (len(subset) < len(replace[0])):\n",
    "                    replace = [subset, beta]\n",
    "        union_F[i] = replace\n",
    "    return union_F\n",
    "\n",
    "eli_left_union_F = eliminate_left_extraneous(union_F)\n",
    "print(eli_left_union_F)"
   ]
  },
  {
   "cell_type": "code",
   "execution_count": 9,
   "metadata": {},
   "outputs": [
    {
     "name": "stdout",
     "output_type": "stream",
     "text": [
      "[[['A'], ['B']], [['B'], ['C']], [['A'], ['D']]]\n"
     ]
    }
   ],
   "source": [
    "union_F = [[['A'], ['B']], [['B'], ['C']], [['A'],['C','D']]]\n",
    "\n",
    "def eliminate_right_extraneous(union_F):\n",
    "    \"\"\" \n",
    "    此函数用来剔除依赖关系集合F中右侧的extraneous attribute\n",
    "    \"\"\"\n",
    "    for i, (alpha, beta) in enumerate(union_F):\n",
    "        replace = [alpha, beta]\n",
    "        for subset in get_proper_subsets(beta):\n",
    "            if subset:\n",
    "                temp_union_F = union_F.copy()\n",
    "                temp_union_F[i] = [alpha, subset]\n",
    "                new_closure = calculate_single_attribute_closure(alpha, temp_union_F)\n",
    "                if set(beta).issubset(new_closure) and (len(subset) < len(replace[1])):\n",
    "                    replace = [alpha, subset]\n",
    "        union_F[i] = replace\n",
    "    return union_F\n",
    "\n",
    "eli_right_union_F = eliminate_right_extraneous(union_F)\n",
    "print(eli_right_union_F)"
   ]
  },
  {
   "cell_type": "code",
   "execution_count": 10,
   "metadata": {},
   "outputs": [
    {
     "name": "stdout",
     "output_type": "stream",
     "text": [
      "[[['A'], ['B']], [['B'], ['C']]]\n"
     ]
    }
   ],
   "source": [
    "F = [[['A'], ['B','C']], [['B'], ['C']], [['A'], ['B']], [['A','B'], ['C']]]\n",
    "\n",
    "def compute_canonical_cover_set(F):\n",
    "    \"\"\" \n",
    "    此函数用来获得依赖关系集合F的正则覆盖集\n",
    "    ex.\n",
    "    输入:F\n",
    "    输出:F的正则覆盖集\n",
    "    \"\"\"\n",
    "    F = function_dependency_union(F)\n",
    "    F = eliminate_left_extraneous(F)\n",
    "    F = function_dependency_union(F)\n",
    "    F = eliminate_right_extraneous(F)\n",
    "    return F\n",
    "\n",
    "F = compute_canonical_cover_set(F)\n",
    "print(F)"
   ]
  }
 ],
 "metadata": {
  "kernelspec": {
   "display_name": "Anaconda20230403",
   "language": "python",
   "name": "python3"
  },
  "language_info": {
   "codemirror_mode": {
    "name": "ipython",
    "version": 3
   },
   "file_extension": ".py",
   "mimetype": "text/x-python",
   "name": "python",
   "nbconvert_exporter": "python",
   "pygments_lexer": "ipython3",
   "version": "3.10.10"
  },
  "orig_nbformat": 4
 },
 "nbformat": 4,
 "nbformat_minor": 2
}
