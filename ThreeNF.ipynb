{
 "cells": [
  {
   "attachments": {},
   "cell_type": "markdown",
   "metadata": {},
   "source": [
    "### **PART 1 用到preparation中的函数**\n",
    "\n",
    "    例如：  \n",
    "        * R = (ABCDEF)  \n",
    "        * F = {A → B, B → CD, D → E, CE → F}  "
   ]
  },
  {
   "cell_type": "code",
   "execution_count": 1,
   "metadata": {},
   "outputs": [],
   "source": [
    "R = ['A','B','C','D','E','F']\n",
    "\n",
    "F = [[['A'],['B']],[['B'],['C','D']],[['D'],['E']],[['C','E'],['F']]]"
   ]
  },
  {
   "attachments": {},
   "cell_type": "markdown",
   "metadata": {},
   "source": [
    "**1.1 求属性闭包**  \n",
    "1.单个属性  \n",
    "2.所有属性  "
   ]
  },
  {
   "cell_type": "code",
   "execution_count": 2,
   "metadata": {},
   "outputs": [],
   "source": [
    "def calculate_single_attribute_closure(original_alpha, F):\n",
    "    \"\"\"\n",
    "    此函数用于计算单个属性的属性闭包\n",
    "    ex:\n",
    "    输入:['A'], F\n",
    "    输出:['A','B','C','D','E','F'] \n",
    "    \"\"\"\n",
    "    alpha = original_alpha.copy()\n",
    "    if alpha == []:\n",
    "        return []\n",
    "    result = alpha.copy()\n",
    "    while True:\n",
    "        for alpha_i, beta_i in F:\n",
    "            #for α_i-->β_i, if α_i ⊂ result \n",
    "            if set(alpha_i).issubset(result):\n",
    "                # result = result ∪ α_i\n",
    "                result.extend([b for b in beta_i if b not in result])\n",
    "        #if not changed after a loop, the calculation is finished \n",
    "        # 结果不再改变，说明属性闭包计算完成\n",
    "        if result == alpha:\n",
    "            break\n",
    "        #if not finished, update alpha and continue calculations and comparisons \n",
    "        # 结果有所改变，继续计算和比较 \n",
    "        alpha = result \n",
    "    return result"
   ]
  },
  {
   "cell_type": "code",
   "execution_count": 3,
   "metadata": {},
   "outputs": [
    {
     "name": "stdout",
     "output_type": "stream",
     "text": [
      "['A']  -->  ['A', 'B', 'C', 'D', 'E', 'F']\n",
      "['B']  -->  ['B', 'C', 'D', 'E', 'F']\n",
      "['D']  -->  ['D', 'E']\n",
      "['C', 'E']  -->  ['C', 'E', 'F']\n"
     ]
    }
   ],
   "source": [
    "def calculate_attribute_closure_set( F ):\n",
    "    \"\"\"\n",
    "    用来计算所有的属性闭包\n",
    "    ex.\n",
    "    输入:函数依赖集合F\n",
    "    输出: \n",
    "    ['A']  -->  ['A', 'B', 'C', 'D', 'E', 'F']\n",
    "    ['B']  -->  ['B', 'C', 'D', 'E', 'F']\n",
    "    ['D']  -->  ['D', 'E']\n",
    "    ['C', 'E']  -->  ['C', 'E', 'F']\n",
    "    \"\"\"\n",
    "    #to store all attribute closures 用与存储所有的属性闭包\n",
    "    attribute_closure_set = []\n",
    "    for alpha, beta in F:\n",
    "        result = calculate_single_attribute_closure(alpha, F)\n",
    "        #to eliminate duplicate attribute closure 若属性闭包未重复，则添加\n",
    "        if [alpha,sorted(result)] not in attribute_closure_set:\n",
    "            attribute_closure_set.append([alpha,sorted(result)])\n",
    "    return attribute_closure_set \n",
    "\n",
    "#calculate all attribute closures\n",
    "attribute_closure_set = calculate_attribute_closure_set( F ) \n",
    "\n",
    "#print all attribute closures\n",
    "for alpha, alpha_closure in attribute_closure_set:\n",
    "    print(alpha,' --> ',alpha_closure)"
   ]
  },
  {
   "attachments": {},
   "cell_type": "markdown",
   "metadata": {},
   "source": [
    "**1.2 求候选码**"
   ]
  },
  {
   "cell_type": "code",
   "execution_count": 4,
   "metadata": {},
   "outputs": [
    {
     "name": "stdout",
     "output_type": "stream",
     "text": [
      "[['A']]\n"
     ]
    }
   ],
   "source": [
    "def get_subsets(s):\n",
    "    \"\"\"\n",
    "    此函数用来计算集合的子集\n",
    "    ex.\n",
    "    输入:['A','B']\n",
    "    输出:[[],['A'],['B'],['A','B']]\n",
    "    #这个函数会使传入的s被修改, 需传入s.copy()\n",
    "    \"\"\"\n",
    "    if not s:\n",
    "        return [[]]\n",
    "    x = s.pop()\n",
    "    subsets = get_subsets(s)\n",
    "    return subsets + [subset + [x] for subset in subsets]\n",
    "\n",
    "def get_proper_subsets(s):\n",
    "    \"\"\"\n",
    "    此函数用来计算集合的真子集\n",
    "    ex.\n",
    "    输入:['A','B']\n",
    "    输出:[[],['A'],['B']]\n",
    "    \"\"\"\n",
    "    s_copy = s.copy()\n",
    "    temp = s.copy()\n",
    "    subsets = get_subsets(temp)\n",
    "    subsets.remove(s_copy)\n",
    "    return subsets\n",
    "\n",
    "def determine_candidate_key(alpha,F,R):\n",
    "    \"\"\"\n",
    "    此函数用来判断属性集合是否为候选码\n",
    "    ex.\n",
    "    输入:['A'],F\n",
    "    输出:True\n",
    "    输入:['B']\n",
    "    输出:False\n",
    "    输入:['A','B']\n",
    "    输出:False(此为超码而不是候选码)\n",
    "    \"\"\"\n",
    "    #print(\"R\",calculate_single_attribute_closure(alpha,F))\n",
    "    if(set(R).issubset(calculate_single_attribute_closure(alpha,F))):\n",
    "\n",
    "        proper_subsets_of_alpha = get_proper_subsets(alpha)\n",
    "        sorted_proper_subsets_of_alpha = sorted(proper_subsets_of_alpha, key=len, reverse=True)\n",
    "        is_candidate_key = True\n",
    "        for item in sorted_proper_subsets_of_alpha:\n",
    "            result = calculate_single_attribute_closure(item,F)\n",
    "            if set(R).issubset(result):\n",
    "                is_candidate_key = False\n",
    "                break\n",
    "        return is_candidate_key\n",
    "    return False\n",
    "\n",
    "def select_candidate_key(F):\n",
    "    \"\"\"\n",
    "    此函数用来算出候选码\n",
    "    ex.\n",
    "    输出:['A']\n",
    "    \"\"\"\n",
    "    candidate_key_set = []\n",
    "    for alpha, beta in F:\n",
    "        #print(alpha)\n",
    "        temp = alpha.copy()\n",
    "        if(determine_candidate_key(alpha,F,R)):\n",
    "            candidate_key_set.append(temp)\n",
    "    return candidate_key_set\n",
    "\n",
    "candidate_key_set = select_candidate_key(F)\n",
    "\n",
    "print(candidate_key_set)"
   ]
  },
  {
   "attachments": {},
   "cell_type": "markdown",
   "metadata": {},
   "source": [
    "**1.3 求Fc**"
   ]
  },
  {
   "cell_type": "code",
   "execution_count": 5,
   "metadata": {},
   "outputs": [],
   "source": [
    "def function_dependency_union(F):\n",
    "    \"\"\"\n",
    "    此函数返回合并后的函数依赖集合\n",
    "    ex.\n",
    "    F 中有 A-->B, B-->C, A-->C\n",
    "    返回 A-->(B,C) , B-->C\n",
    "    即 [[['A'], ['B', 'C']], [['B'], ['C']]]\n",
    "    \"\"\"\n",
    "    union_F = []\n",
    "    for alpha, beta in F:\n",
    "        union_beta = beta.copy()\n",
    "        for alpha_i, beta_i in F:\n",
    "            if alpha == alpha_i:\n",
    "                union_beta.extend([b for b in beta_i if b not in union_beta])\n",
    "        if [alpha,sorted(union_beta)] not in union_F:\n",
    "            union_F.append([alpha,sorted(union_beta)])\n",
    "    return union_F\n",
    "\n",
    "def eliminate_left_extraneous(union_F):\n",
    "    \"\"\" \n",
    "    此函数用来剔除依赖关系集合F中左侧的extraneous attribute\n",
    "    \"\"\"\n",
    "    for i, (alpha, beta) in enumerate(union_F):\n",
    "        replace = [alpha, beta]\n",
    "        for subset in get_proper_subsets(alpha):\n",
    "            if subset:\n",
    "                new_closure = calculate_single_attribute_closure(subset, union_F)\n",
    "                if set(beta).issubset(new_closure) and (len(subset) < len(replace[0])):\n",
    "                    replace = [subset, beta]\n",
    "        union_F[i] = replace\n",
    "    return union_F\n",
    "\n",
    "def eliminate_right_extraneous(union_F):\n",
    "    \"\"\" \n",
    "    此函数用来剔除依赖关系集合F中右侧的extraneous attribute\n",
    "    \"\"\"\n",
    "    for i, (alpha, beta) in enumerate(union_F):\n",
    "        replace = [alpha, beta]\n",
    "        for subset in get_proper_subsets(beta):\n",
    "            if subset:\n",
    "                temp_union_F = union_F.copy()\n",
    "                temp_union_F[i] = [alpha, subset]\n",
    "                new_closure = calculate_single_attribute_closure(alpha, temp_union_F)\n",
    "                if set(beta).issubset(new_closure) and (len(subset) < len(replace[1])):\n",
    "                    replace = [alpha, subset]\n",
    "        union_F[i] = replace\n",
    "    return union_F\n",
    "\n",
    "def compute_canonical_cover_set(F):\n",
    "    \"\"\" \n",
    "    此函数用来获得依赖关系集合F的正则覆盖集\n",
    "    ex.\n",
    "    输入:F\n",
    "    输出:F的正则覆盖集\n",
    "    \"\"\"\n",
    "    F = function_dependency_union(F)\n",
    "    F = eliminate_left_extraneous(F)\n",
    "    F = function_dependency_union(F)\n",
    "    F = eliminate_right_extraneous(F)\n",
    "    return F"
   ]
  },
  {
   "attachments": {},
   "cell_type": "markdown",
   "metadata": {},
   "source": [
    "### **PART2 3NF判断**\n",
    "    1. beta_belong_alpha(alpha,beta) return bool  \n",
    "    2. alpha_is_superKey(alpha,F,R)    return bool  \n",
    "    3. b_minus_a_contain_candidatKey(alpha,beta,F,R) return bool  "
   ]
  },
  {
   "cell_type": "code",
   "execution_count": 6,
   "metadata": {},
   "outputs": [
    {
     "data": {
      "text/plain": [
       "False"
      ]
     },
     "execution_count": 6,
     "metadata": {},
     "output_type": "execute_result"
    }
   ],
   "source": [
    "def beta_belong_alpha(alpha,beta):\n",
    "    '''\n",
    "    此函数用来判断beta是否属于alpha\n",
    "    return bool\n",
    "    '''\n",
    "    return set(beta).issubset(set(alpha))\n",
    "beta_belong_alpha(['A','B'],['A','B','C'])"
   ]
  },
  {
   "cell_type": "code",
   "execution_count": 7,
   "metadata": {},
   "outputs": [
    {
     "data": {
      "text/plain": [
       "True"
      ]
     },
     "execution_count": 7,
     "metadata": {},
     "output_type": "execute_result"
    }
   ],
   "source": [
    "def alpha_is_superKey(alpha,F,R):\n",
    "    '''\n",
    "    此函数用来判断alpha是否为超码\n",
    "    return bool\n",
    "    '''\n",
    "    alpha_closure=calculate_single_attribute_closure(alpha,F)\n",
    "    return set(R).issubset(set(alpha_closure))\n",
    "alpha_is_superKey(['A'],F,R)"
   ]
  },
  {
   "cell_type": "code",
   "execution_count": 8,
   "metadata": {},
   "outputs": [
    {
     "data": {
      "text/plain": [
       "True"
      ]
     },
     "execution_count": 8,
     "metadata": {},
     "output_type": "execute_result"
    }
   ],
   "source": [
    "def b_minus_a_contain_candidatKey(alpha,beta,F,R):\n",
    "    '''\n",
    "    此函数用来判断beta-alpha是否包含于某个候选码中\n",
    "    return bool\n",
    "    '''\n",
    "    a_set=set(alpha)\n",
    "    b_set=set(beta)\n",
    "    b_minus_a=list(b_set-a_set)\n",
    "    candidatK=select_candidate_key(F)\n",
    "    return b_minus_a in candidatK\n",
    "\n",
    "alpha=['B']\n",
    "beta=['A']\n",
    "b_minus_a_contain_candidatKey(alpha,beta,F,R)\n"
   ]
  },
  {
   "cell_type": "code",
   "execution_count": 9,
   "metadata": {},
   "outputs": [
    {
     "data": {
      "text/plain": [
       "[[['B'], ['C', 'D']], [['D'], ['E']], [['C', 'E'], ['F']]]"
      ]
     },
     "execution_count": 9,
     "metadata": {},
     "output_type": "execute_result"
    }
   ],
   "source": [
    "def test3NF(F,R):\n",
    "    '''\n",
    "    此函数用来测试表是否符合3NF\n",
    "    return 破坏3NF的函数依赖关系\n",
    "    当输出为[]时，代表表符合3NF\n",
    "    '''\n",
    "    break_F=[]\n",
    "    for alpha,beta in F:\n",
    "        if((not beta_belong_alpha(alpha,beta) and not alpha_is_superKey(alpha,F,R)and not b_minus_a_contain_candidatKey(alpha,beta,F,R))):\n",
    "            break_F.append([alpha,beta])            \n",
    "    return break_F\n",
    "test3NF(F,R)"
   ]
  },
  {
   "attachments": {},
   "cell_type": "markdown",
   "metadata": {},
   "source": [
    "### **PART3 做3NF分解**\n",
    "    思路：  \n",
    "        1.算Fc  \n",
    "        2.每个依赖用一张表保存  \n",
    "        3.求候选码  \n",
    "        4.判断需不需要给候选码建表  \n",
    "        5.删表:del_element(result)  return 删后的表\n",
    "        6.输出  "
   ]
  },
  {
   "cell_type": "code",
   "execution_count": 10,
   "metadata": {},
   "outputs": [
    {
     "data": {
      "text/plain": [
       "[[1, 2, 3], [1, 3, 4]]"
      ]
     },
     "execution_count": 10,
     "metadata": {},
     "output_type": "execute_result"
    }
   ],
   "source": [
    "def del_element(result):\n",
    "    '''\n",
    "    此函数用来删除有重复元素的表\n",
    "    return 删后的表\n",
    "    '''\n",
    "    result.sort(key = lambda result:len(result))\n",
    "    i=0\n",
    "    while(i<(len(result))):\n",
    "        temp=result.copy()\n",
    "        result.pop(i)\n",
    "        state=False\n",
    "        for subs in result:\n",
    "            if(set(temp[i]).issubset(set(subs))):\n",
    "                state=True\n",
    "        if(not state):\n",
    "            result=temp\n",
    "            i+=1 \n",
    "    return result\n",
    "a=[[1],[1,2],[1,2,3],[1,3,4],[1,4]]\n",
    "del_element(a)\n"
   ]
  },
  {
   "cell_type": "code",
   "execution_count": 11,
   "metadata": {},
   "outputs": [
    {
     "name": "stdout",
     "output_type": "stream",
     "text": [
      "F [[[1, 2], [3, 4]], [[2], [3]], [[1, 3], [2]]]\n",
      "R [1, 2, 3, 4]\n",
      "[[1, 2, 4], [1, 3, 2]]\n"
     ]
    }
   ],
   "source": [
    "def decomposition3NF(F,R):\n",
    "    '''\n",
    "    此函数用来根据3NF拆表\n",
    "    return 拆后的表\n",
    "    '''\n",
    "    result=[]\n",
    "    Fc=compute_canonical_cover_set(F)\n",
    "    for alpha,beta in Fc:\n",
    "        result.append(alpha+beta)\n",
    "    candidatK=select_candidate_key(F)\n",
    "    for canK in candidatK:\n",
    "        result.append(canK)\n",
    "    #print(result)\n",
    "    result=del_element(result)\n",
    "    return result\n",
    "\n",
    "F=[[[1,2],[3,4]],[[2],[3]],[[1,3],[2]]]\n",
    "R=[1,2,3,4]\n",
    "print(\"F\",F)\n",
    "print(\"R\",R)\n",
    "print(decomposition3NF(F,R))"
   ]
  },
  {
   "attachments": {},
   "cell_type": "markdown",
   "metadata": {},
   "source": [
    "### **PART4 汇总**\n",
    "先test再拆"
   ]
  },
  {
   "cell_type": "code",
   "execution_count": 12,
   "metadata": {},
   "outputs": [
    {
     "name": "stdout",
     "output_type": "stream",
     "text": [
      "存在函数依赖破坏3NF。\n",
      "破坏3NF的函数依赖： [[[2], [3]]]\n"
     ]
    },
    {
     "data": {
      "text/plain": [
       "[[1, 2, 4], [1, 3, 2]]"
      ]
     },
     "execution_count": 12,
     "metadata": {},
     "output_type": "execute_result"
    }
   ],
   "source": [
    "def threeNF(F,R):\n",
    "    '''\n",
    "    此函数整合3NF的函数，先检验，再生成符合3NF的表\n",
    "    输出是否破坏3NF，如果破坏，哪些函数依赖破坏3NF。\n",
    "    return 符合3NF的表\n",
    "    '''\n",
    "    breakList=test3NF(F,R)\n",
    "    if(breakList!=[]):\n",
    "        print(\"存在函数依赖破坏3NF。\")\n",
    "        print(\"破坏3NF的函数依赖：\",breakList)\n",
    "        return decomposition3NF(F,R)\n",
    "    else:\n",
    "        print(\"该表符合3NF。\")\n",
    "        return R\n",
    "\n",
    "threeNF(F,R)       "
   ]
  }
 ],
 "metadata": {
  "kernelspec": {
   "display_name": "base",
   "language": "python",
   "name": "python3"
  },
  "language_info": {
   "codemirror_mode": {
    "name": "ipython",
    "version": 3
   },
   "file_extension": ".py",
   "mimetype": "text/x-python",
   "name": "python",
   "nbconvert_exporter": "python",
   "pygments_lexer": "ipython3",
   "version": "3.8.8"
  },
  "orig_nbformat": 4
 },
 "nbformat": 4,
 "nbformat_minor": 2
}
