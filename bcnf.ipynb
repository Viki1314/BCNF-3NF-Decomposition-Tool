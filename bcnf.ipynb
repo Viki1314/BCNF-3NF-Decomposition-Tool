{
 "cells": [
  {
   "attachments": {},
   "cell_type": "markdown",
   "metadata": {},
   "source": [
    "已知关系模式 R=(A,B,C,D,E) 以及函数依赖集合F, 若R在BCNF中，则\n",
    "1. α-->β，α是β的超集（trivial）\n",
    "2. α-->β，α是R的超码。\n"
   ]
  },
  {
   "cell_type": "code",
   "execution_count": 69,
   "metadata": {},
   "outputs": [],
   "source": [
    "R = ['A','B','C','D','E','F']\n",
    "\n",
    "F = [[['A'],['B']],[['B'],['C','D']],[['D'],['E']],[['C','E'],['F']]]"
   ]
  },
  {
   "cell_type": "code",
   "execution_count": 70,
   "metadata": {},
   "outputs": [],
   "source": [
    "def calculate_single_attribute_closure(alpha):\n",
    "    \"\"\"\n",
    "    此函数用于计算单个属性的属性闭包\n",
    "    ex:\n",
    "    输入:['A']\n",
    "    输出:['A','B','C','D','E','F'] \n",
    "    \"\"\"\n",
    "    if alpha == []:\n",
    "        return []\n",
    "    result = alpha.copy()\n",
    "    while True:\n",
    "        for alpha_i, beta_i in F:\n",
    "            #for α_i-->β_i, if α_i ⊂ result \n",
    "            if set(alpha_i).issubset(result):\n",
    "                # result = result ∪ α_i\n",
    "                result.extend([b for b in beta_i if b not in result])\n",
    "        #if not changed after a loop, the calculation is finished \n",
    "        # 结果不再改变，说明属性闭包计算完成\n",
    "        if result == alpha:\n",
    "            break\n",
    "        #if not finished, update alpha and continue calculations and comparisons \n",
    "        # 结果有所改变，继续计算和比较 \n",
    "        alpha = result \n",
    "    return result"
   ]
  },
  {
   "cell_type": "code",
   "execution_count": 71,
   "metadata": {},
   "outputs": [
    {
     "name": "stdout",
     "output_type": "stream",
     "text": [
      "['A']  -->  ['A', 'B', 'C', 'D', 'E', 'F']\n",
      "['B']  -->  ['B', 'C', 'D', 'E', 'F']\n",
      "['D']  -->  ['D', 'E']\n",
      "['C', 'E']  -->  ['C', 'E', 'F']\n"
     ]
    }
   ],
   "source": [
    "def calculate_attribute_closure_set( F ):\n",
    "    \"\"\"\n",
    "    用来计算所有的属性闭包\n",
    "    ex.\n",
    "    输入:函数依赖集合F\n",
    "    输出: \n",
    "    ['A']  -->  ['A', 'B', 'C', 'D', 'E', 'F']\n",
    "    ['B']  -->  ['B', 'C', 'D', 'E', 'F']\n",
    "    ['D']  -->  ['D', 'E']\n",
    "    ['C', 'E']  -->  ['C', 'E', 'F']\n",
    "    \"\"\"\n",
    "    #to store all attribute closures 用与存储所有的属性闭包\n",
    "    attribute_closure_set = []\n",
    "    for alpha, beta in F:\n",
    "        result = calculate_single_attribute_closure(alpha)\n",
    "        #to eliminate duplicate attribute closure 若属性闭包未重复，则添加\n",
    "        if [alpha,sorted(result)] not in attribute_closure_set:\n",
    "            attribute_closure_set.append([alpha,sorted(result)])\n",
    "    return attribute_closure_set \n",
    "\n",
    "#calculate all attribute closures\n",
    "attribute_closure_set = calculate_attribute_closure_set( F ) \n",
    "\n",
    "#print all attribute closures\n",
    "for alpha, alpha_closure in attribute_closure_set:\n",
    "    print(alpha,' --> ',alpha_closure)\n"
   ]
  },
  {
   "cell_type": "code",
   "execution_count": 72,
   "metadata": {},
   "outputs": [
    {
     "name": "stdout",
     "output_type": "stream",
     "text": [
      "Bad F:\n",
      "['B']  -->  ['C', 'D']\n",
      "['D']  -->  ['E']\n",
      "['C', 'E']  -->  ['F']\n",
      "good F:\n",
      "['A']  -->  ['B']\n"
     ]
    }
   ],
   "source": [
    "def calculate_bad_and_good_F():\n",
    "    \"\"\"\n",
    "    Find \"bad\" F and \"good\" F for BCNF\n",
    "    # do it after calculation of attribute_closure_set is finished\n",
    "    此函数用于计算完所有属性的闭包后, 根据是否为R的超集分成满足或不满足BCNF的函数依赖\n",
    "    \"\"\"\n",
    "    bad_F = []\n",
    "    good_F = []\n",
    "    for alpha, alpha_closure in attribute_closure_set:\n",
    "        for F_alpha, F_beta in F:\n",
    "            if F_alpha == alpha and not set(R).issubset(alpha_closure):\n",
    "                bad_F.append([F_alpha, F_beta])\n",
    "            if F_alpha == alpha and set(R).issubset(alpha_closure):\n",
    "                good_F.append([F_alpha, F_beta])\n",
    "    return bad_F, good_F\n",
    "\n",
    "bad_F, good_F = calculate_bad_and_good_F()\n",
    "        \n",
    "# Print bad F\n",
    "print(\"Bad F:\")\n",
    "for bad_F_alpha, bad_F_beta in bad_F:\n",
    "    print(bad_F_alpha,' --> ',bad_F_beta)\n",
    "\n",
    "# Print good F\n",
    "print(\"good F:\")\n",
    "for good_F_alpha, good_F_beta in good_F:\n",
    "    print(good_F_alpha,' --> ',good_F_beta)\n"
   ]
  },
  {
   "cell_type": "code",
   "execution_count": 73,
   "metadata": {},
   "outputs": [
    {
     "name": "stdout",
     "output_type": "stream",
     "text": [
      "[['A']]\n"
     ]
    }
   ],
   "source": [
    "def get_subsets(s):\n",
    "    \"\"\"\n",
    "    此函数用来计算集合的子集\n",
    "    ex.\n",
    "    输入:['A','B']\n",
    "    输出:[[],['A'],['B'],['A','B']]\n",
    "    \"\"\"\n",
    "    if not s:\n",
    "        return [[]]\n",
    "    x = s.pop()\n",
    "    subsets = get_subsets(s)\n",
    "    return subsets + [subset + [x] for subset in subsets]\n",
    "\n",
    "def get_proper_subsets(s):\n",
    "    \"\"\"\n",
    "    此函数用来计算集合的真子集\n",
    "    ex.\n",
    "    输入:['A','B']\n",
    "    输出:[[],['A'],['B']]\n",
    "    \"\"\"\n",
    "    temp = s.copy()\n",
    "    subsets = get_subsets(s)\n",
    "    subsets.remove(temp)\n",
    "    return subsets\n",
    "\n",
    "def determine_candidate_key(alpha):\n",
    "    \"\"\"\n",
    "    此函数用来判断属性集合是否为候选码\n",
    "    ex.\n",
    "    输入:['A']\n",
    "    输出:True\n",
    "    输入:['B']\n",
    "    输出:False\n",
    "    输入:['A','B']\n",
    "    输出:False(此为超码而不是候选码)\n",
    "    \"\"\"\n",
    "    if(set(R).issubset(calculate_single_attribute_closure(alpha))):\n",
    "\n",
    "        proper_subsets_of_alpha = get_proper_subsets(alpha)\n",
    "        sorted_proper_subsets_of_alpha = sorted(proper_subsets_of_alpha, key=len, reverse=True)\n",
    "\n",
    "        is_candidate_key = True\n",
    "        for item in sorted_proper_subsets_of_alpha:\n",
    "            result = calculate_single_attribute_closure(item)\n",
    "            if set(R).issubset(result):\n",
    "                is_candidate_key = False\n",
    "                break\n",
    "        return is_candidate_key\n",
    "    return False\n",
    "\n",
    "def select_candidate_key():\n",
    "    \"\"\"\n",
    "    此函数用来算出候选码\n",
    "    ex.\n",
    "    输出:['A']\n",
    "    \"\"\"\n",
    "    candidate_key_set = []\n",
    "    for alpha, beta in F:\n",
    "        temp = alpha.copy()\n",
    "        if(determine_candidate_key(alpha)):\n",
    "            candidate_key_set.append(temp)\n",
    "    return candidate_key_set\n",
    "\n",
    "candidate_key_set = select_candidate_key()\n",
    "\n",
    "print(candidate_key_set)"
   ]
  },
  {
   "attachments": {},
   "cell_type": "markdown",
   "metadata": {},
   "source": []
  }
 ],
 "metadata": {
  "kernelspec": {
   "display_name": "Anaconda20230403",
   "language": "python",
   "name": "python3"
  },
  "language_info": {
   "codemirror_mode": {
    "name": "ipython",
    "version": 3
   },
   "file_extension": ".py",
   "mimetype": "text/x-python",
   "name": "python",
   "nbconvert_exporter": "python",
   "pygments_lexer": "ipython3",
   "version": "3.10.10"
  },
  "orig_nbformat": 4
 },
 "nbformat": 4,
 "nbformat_minor": 2
}
