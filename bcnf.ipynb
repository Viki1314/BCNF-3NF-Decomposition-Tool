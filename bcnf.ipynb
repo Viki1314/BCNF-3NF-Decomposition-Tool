{
 "cells": [
  {
   "cell_type": "code",
   "execution_count": 116,
   "metadata": {},
   "outputs": [],
   "source": [
    "R = ['A','B','C','D','E','F']\n",
    "\n",
    "F = [[['A'],['B']],[['B'],['C','D']],[['D'],['E']],[['C','E'],['F']]]"
   ]
  },
  {
   "cell_type": "code",
   "execution_count": 117,
   "metadata": {},
   "outputs": [],
   "source": [
    "def calculate_single_attribute_closure(original_alpha, F):\n",
    "    \"\"\"\n",
    "    此函数用于计算单个属性的属性闭包\n",
    "    ex:\n",
    "    输入:['A'], F\n",
    "    输出:['A','B','C','D','E','F'] \n",
    "    \"\"\"\n",
    "    alpha = original_alpha.copy()\n",
    "    if alpha == []:\n",
    "        return []\n",
    "    result = alpha.copy()\n",
    "    while True:\n",
    "        for alpha_i, beta_i in F:\n",
    "            #for α_i-->β_i, if α_i ⊂ result \n",
    "            if set(alpha_i).issubset(result):\n",
    "                # result = result ∪ α_i\n",
    "                result.extend([b for b in beta_i if b not in result])\n",
    "        #if not changed after a loop, the calculation is finished \n",
    "        # 结果不再改变，说明属性闭包计算完成\n",
    "        if result == alpha:\n",
    "            break\n",
    "        #if not finished, update alpha and continue calculations and comparisons \n",
    "        # 结果有所改变，继续计算和比较 \n",
    "        alpha = result \n",
    "    return result"
   ]
  },
  {
   "cell_type": "code",
   "execution_count": 118,
   "metadata": {},
   "outputs": [
    {
     "name": "stdout",
     "output_type": "stream",
     "text": [
      "['A']  -->  ['A', 'B', 'C', 'D', 'E', 'F']\n",
      "['B']  -->  ['B', 'C', 'D', 'E', 'F']\n",
      "['D']  -->  ['D', 'E']\n",
      "['C', 'E']  -->  ['C', 'E', 'F']\n"
     ]
    }
   ],
   "source": [
    "def calculate_attribute_closure_set( F ):\n",
    "    \"\"\"\n",
    "    用来计算所有的属性闭包\n",
    "    ex.\n",
    "    输入:函数依赖集合F\n",
    "    输出: \n",
    "    ['A']  -->  ['A', 'B', 'C', 'D', 'E', 'F']\n",
    "    ['B']  -->  ['B', 'C', 'D', 'E', 'F']\n",
    "    ['D']  -->  ['D', 'E']\n",
    "    ['C', 'E']  -->  ['C', 'E', 'F']\n",
    "    \"\"\"\n",
    "    #to store all attribute closures 用与存储所有的属性闭包\n",
    "    attribute_closure_set = []\n",
    "    for alpha, beta in F:\n",
    "        result = calculate_single_attribute_closure(alpha, F)\n",
    "        #to eliminate duplicate attribute closure 若属性闭包未重复，则添加\n",
    "        if [alpha,sorted(result)] not in attribute_closure_set:\n",
    "            attribute_closure_set.append([alpha,sorted(result)])\n",
    "    return attribute_closure_set \n",
    "\n",
    "#calculate all attribute closures\n",
    "attribute_closure_set = calculate_attribute_closure_set( F ) \n",
    "\n",
    "#print all attribute closures\n",
    "for alpha, alpha_closure in attribute_closure_set:\n",
    "    print(alpha,' --> ',alpha_closure)\n"
   ]
  },
  {
   "cell_type": "code",
   "execution_count": 119,
   "metadata": {},
   "outputs": [
    {
     "name": "stdout",
     "output_type": "stream",
     "text": [
      "Bad F:\n",
      "['B']  -->  ['C', 'D']\n",
      "['D']  -->  ['E']\n",
      "['C', 'E']  -->  ['F']\n",
      "good F:\n",
      "['A']  -->  ['B']\n"
     ]
    }
   ],
   "source": [
    "def calculate_bad_and_good_F(F):\n",
    "    \"\"\"\n",
    "    Find \"bad\" F and \"good\" F for BCNF\n",
    "    # do it after calculation of attribute_closure_set is finished\n",
    "    此函数用于计算完所有属性的闭包后, 根据是否为R的超集分成满足或不满足BCNF的函数依赖\n",
    "    \"\"\"\n",
    "    bad_F = []\n",
    "    good_F = []\n",
    "    for alpha, alpha_closure in attribute_closure_set:\n",
    "        for F_alpha, F_beta in F:\n",
    "            if F_alpha == alpha and not set(R).issubset(alpha_closure):\n",
    "                bad_F.append([F_alpha, F_beta])\n",
    "            if F_alpha == alpha and set(R).issubset(alpha_closure):\n",
    "                good_F.append([F_alpha, F_beta])\n",
    "    return bad_F, good_F\n",
    "\n",
    "bad_F, good_F = calculate_bad_and_good_F(F)\n",
    "        \n",
    "# Print bad F\n",
    "print(\"Bad F:\")\n",
    "for bad_F_alpha, bad_F_beta in bad_F:\n",
    "    print(bad_F_alpha,' --> ',bad_F_beta)\n",
    "\n",
    "# Print good F\n",
    "print(\"good F:\")\n",
    "for good_F_alpha, good_F_beta in good_F:\n",
    "    print(good_F_alpha,' --> ',good_F_beta)\n"
   ]
  },
  {
   "cell_type": "code",
   "execution_count": 120,
   "metadata": {},
   "outputs": [
    {
     "name": "stdout",
     "output_type": "stream",
     "text": [
      "[['A']]\n"
     ]
    }
   ],
   "source": [
    "def get_subsets(s):\n",
    "    \"\"\"\n",
    "    此函数用来计算集合的子集\n",
    "    ex.\n",
    "    输入:['A','B']\n",
    "    输出:[[],['A'],['B'],['A','B']]\n",
    "    \"\"\"\n",
    "    if not s:\n",
    "        return [[]]\n",
    "    x = s.pop()\n",
    "    subsets = get_subsets(s)\n",
    "    return subsets + [subset + [x] for subset in subsets]\n",
    "\n",
    "def get_proper_subsets(s):\n",
    "    \"\"\"\n",
    "    此函数用来计算集合的真子集\n",
    "    ex.\n",
    "    输入:['A','B']\n",
    "    输出:[[],['A'],['B']]\n",
    "    \"\"\"\n",
    "    s_copy = s.copy()\n",
    "    temp = s.copy()\n",
    "    subsets = get_subsets(temp)\n",
    "    subsets.remove(s_copy)\n",
    "    return subsets\n",
    "\n",
    "def determine_candidate_key(alpha,F):\n",
    "    \"\"\"\n",
    "    此函数用来判断属性集合是否为候选码\n",
    "    ex.\n",
    "    输入:['A'],F\n",
    "    输出:True\n",
    "    输入:['B']\n",
    "    输出:False\n",
    "    输入:['A','B']\n",
    "    输出:False(此为超码而不是候选码)\n",
    "    \"\"\"\n",
    "    if(set(R).issubset(calculate_single_attribute_closure(alpha,F))):\n",
    "\n",
    "        proper_subsets_of_alpha = get_proper_subsets(alpha)\n",
    "        sorted_proper_subsets_of_alpha = sorted(proper_subsets_of_alpha, key=len, reverse=True)\n",
    "\n",
    "        is_candidate_key = True\n",
    "        for item in sorted_proper_subsets_of_alpha:\n",
    "            result = calculate_single_attribute_closure(item,F)\n",
    "            if set(R).issubset(result):\n",
    "                is_candidate_key = False\n",
    "                break\n",
    "        return is_candidate_key\n",
    "    return False\n",
    "\n",
    "def select_candidate_key(F):\n",
    "    \"\"\"\n",
    "    此函数用来算出候选码\n",
    "    ex.\n",
    "    输出:['A']\n",
    "    \"\"\"\n",
    "    candidate_key_set = []\n",
    "    for alpha, beta in F:\n",
    "        temp = alpha.copy()\n",
    "        if(determine_candidate_key(alpha,F)):\n",
    "            candidate_key_set.append(temp)\n",
    "    return candidate_key_set\n",
    "\n",
    "candidate_key_set = select_candidate_key(F)\n",
    "\n",
    "print(candidate_key_set)"
   ]
  },
  {
   "cell_type": "code",
   "execution_count": 121,
   "metadata": {},
   "outputs": [
    {
     "name": "stdout",
     "output_type": "stream",
     "text": [
      "[[['A'], ['B', 'C']], [['B'], ['C']]]\n"
     ]
    }
   ],
   "source": [
    "def function_dependency_union(F):\n",
    "    \"\"\"\n",
    "    此函数返回合并后的函数依赖集合\n",
    "    ex.\n",
    "    F 中有 A-->B, B-->C, A-->C\n",
    "    返回 A-->(B,C) , B-->C\n",
    "    即 [[['A'], ['B', 'C']], [['B'], ['C']]]\n",
    "    \"\"\"\n",
    "    union_F = []\n",
    "    for alpha, beta in F:\n",
    "        union_beta = beta.copy()\n",
    "        for alpha_i, beta_i in F:\n",
    "            if alpha == alpha_i:\n",
    "                union_beta.extend([b for b in beta_i if b not in union_beta])\n",
    "        if [alpha,sorted(union_beta)] not in union_F:\n",
    "            union_F.append([alpha,sorted(union_beta)])\n",
    "    return union_F\n",
    "\n",
    "F_temperary = [[['A'],['B']],[['B'],['C']],[['A'],['C']]]\n",
    "\n",
    "print(function_dependency_union(F_temperary))\n"
   ]
  },
  {
   "cell_type": "code",
   "execution_count": 122,
   "metadata": {},
   "outputs": [
    {
     "name": "stdout",
     "output_type": "stream",
     "text": [
      "[[['A'], ['B']], [['B'], ['C']], [['A'], ['D']]]\n"
     ]
    }
   ],
   "source": [
    "union_F = [[['A'], ['B']], [['B'], ['C']], [['A','C'],['D']]]\n",
    "\n",
    "def eliminate_left_extraneous(union_F):\n",
    "    \"\"\" \n",
    "    此函数用来剔除依赖关系集合F中左侧的extraneous attribute\n",
    "    \"\"\"\n",
    "    for i, (alpha, beta) in enumerate(union_F):\n",
    "        replace = [alpha, beta]\n",
    "        for subset in get_proper_subsets(alpha):\n",
    "            if subset:\n",
    "                temp_union_F = union_F.copy()\n",
    "                temp_union_F[i] = [subset, beta]\n",
    "                new_closure = calculate_single_attribute_closure(subset, temp_union_F)\n",
    "                if set(beta).issubset(new_closure) and (len(subset) < len(replace[0])):\n",
    "                    replace = [subset, beta]\n",
    "        union_F[i] = replace\n",
    "    return union_F\n",
    "\n",
    "eli_left_union_F = eliminate_left_extraneous(union_F)\n",
    "print(eli_left_union_F)"
   ]
  },
  {
   "cell_type": "code",
   "execution_count": 123,
   "metadata": {},
   "outputs": [
    {
     "name": "stdout",
     "output_type": "stream",
     "text": [
      "[[['A'], ['B']], [['B'], ['C']], [['A'], ['D']]]\n"
     ]
    }
   ],
   "source": [
    "union_F = [[['A'], ['B']], [['B'], ['C']], [['A'],['C','D']]]\n",
    "\n",
    "def eliminate_right_extraneous(union_F):\n",
    "    \"\"\" \n",
    "    此函数用来剔除依赖关系集合F中右侧的extraneous attribute\n",
    "    \"\"\"\n",
    "    for i, (alpha, beta) in enumerate(union_F):\n",
    "        replace = [alpha, beta]\n",
    "        for subset in get_proper_subsets(beta):\n",
    "            if subset:\n",
    "                temp_union_F = union_F.copy()\n",
    "                temp_union_F[i] = [alpha, subset]\n",
    "                new_closure = calculate_single_attribute_closure(alpha, temp_union_F)\n",
    "                if set(beta).issubset(new_closure) and (len(subset) < len(replace[1])):\n",
    "                    replace = [alpha, subset]\n",
    "        union_F[i] = replace\n",
    "    return union_F\n",
    "\n",
    "eli_right_union_F = eliminate_right_extraneous(union_F)\n",
    "print(eli_right_union_F)"
   ]
  },
  {
   "cell_type": "code",
   "execution_count": 128,
   "metadata": {},
   "outputs": [
    {
     "name": "stdout",
     "output_type": "stream",
     "text": [
      "[[['A'], ['B']], [['B'], ['C']]]\n"
     ]
    }
   ],
   "source": [
    "F = [[['A'], ['B','C']], [['B'], ['C']], [['A'], ['B']], [['A','B'], ['C']]]\n",
    "\n",
    "def compute_canonical_cover_set(F):\n",
    "    \"\"\" \n",
    "    此函数用来获得依赖关系集合F的正则覆盖集\n",
    "    ex.\n",
    "    输入:F\n",
    "    输出:F的正则覆盖集\n",
    "    \"\"\"\n",
    "    F = function_dependency_union(F)\n",
    "    F = eliminate_left_extraneous(F)\n",
    "    F = function_dependency_union(F)\n",
    "    F = eliminate_right_extraneous(F)\n",
    "    return F\n",
    "\n",
    "F = compute_canonical_cover_set(F)\n",
    "print(F)"
   ]
  }
 ],
 "metadata": {
  "kernelspec": {
   "display_name": "Anaconda20230403",
   "language": "python",
   "name": "python3"
  },
  "language_info": {
   "codemirror_mode": {
    "name": "ipython",
    "version": 3
   },
   "file_extension": ".py",
   "mimetype": "text/x-python",
   "name": "python",
   "nbconvert_exporter": "python",
   "pygments_lexer": "ipython3",
   "version": "3.10.10"
  },
  "orig_nbformat": 4
 },
 "nbformat": 4,
 "nbformat_minor": 2
}
