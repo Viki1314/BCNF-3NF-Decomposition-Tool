{
 "cells": [
  {
   "cell_type": "code",
   "execution_count": 345,
   "outputs": [],
   "source": [
    "from preparation import *\n",
    "import copy"
   ],
   "metadata": {
    "collapsed": false,
    "pycharm": {
     "name": "#%%\n"
    }
   }
  },
  {
   "cell_type": "code",
   "execution_count": 346,
   "metadata": {},
   "outputs": [],
   "source": [
    "R = ['A','B','C','D','E','F']\n",
    "\n",
    "F = [[['A'],['B']],[['B'],['C','D']],[['D'],['E']],[['C','E'],['F']]]"
   ]
  },
  {
   "cell_type": "code",
   "execution_count": 346,
   "outputs": [],
   "source": [],
   "metadata": {
    "collapsed": false,
    "pycharm": {
     "name": "#%%\n"
    }
   }
  },
  {
   "cell_type": "code",
   "execution_count": 347,
   "outputs": [],
   "source": [
    "class NF:\n",
    "    def __init__(self,R,F):\n",
    "        self.R = R\n",
    "        self.F =F\n",
    "\n",
    "    def check_NontrivialDependencyCaseViolationOfBCNF(self,s,schemaR):\n",
    "        \"\"\"\n",
    "        检查不常用（non-trivial）依赖s是否导致不符合BCNF\n",
    "        :param s:F中的一个在schemaR上的非平凡依赖;ex:[['A'],['B']]\n",
    "        schemaR:list,表的属性;ex:['A','B','C','D','E','F']\n",
    "        :return:boolean,True:符合BC范式；False：违背BC范式\n",
    "        \"\"\"\n",
    "        s_plus_set = set(calculate_single_attribute_closure(s[0],self.F))\n",
    "        R_set = set(schemaR)\n",
    "        # print(s_plus_set,'\\t',R_set,'\\t',R_set.issubset(s_plus_set))\n",
    "        return   R_set.issubset(s_plus_set)\n",
    "        # return schemaR.issubset(s_plus_set)\n",
    "    def check_schemaInBCNF(self,schemaR:list):\n",
    "        \"\"\"\n",
    "        检查schena是否符合BC范式\n",
    "        :param schemaR: list,表的属性;ex:['A','B','C','D','E','F']\n",
    "        :return: boolean,True:符合BC范式；False：违背BC范式\n",
    "        \"\"\"\n",
    "        result = True\n",
    "        vio = None\n",
    "        for i in self.F:\n",
    "            alpha_set = set(i[0])\n",
    "            beta_set = set(i[1])\n",
    "            if  not beta_set.issubset(alpha_set) and (alpha_set.union(beta_set)).issubset(set(schemaR)):#保证该依赖是非平凡依赖且在Ri中，可以被分解\n",
    "                if not self.check_NontrivialDependencyCaseViolationOfBCNF(i,schemaR):#检查该依赖是否违背BC范式\n",
    "                #     result = True\n",
    "                # else:\n",
    "                    vio = i\n",
    "                    result = False\n",
    "                    break\n",
    "        return result,vio\n",
    "\n",
    "    def BCNF(self):\n",
    "        \"\"\"\n",
    "        BC范式分解\n",
    "        :return: BC范式分解结果\n",
    "        \"\"\"\n",
    "        result = [self.R]\n",
    "        done = False\n",
    "        test = 0\n",
    "        step = {'root':self.R}\n",
    "        while(not done):\n",
    "            allBCNF = True\n",
    "            for i in range(len(result)):\n",
    "                temp_R = result[i]#list\n",
    "                temp_R_set = set(temp_R)\n",
    "                temp_done = False\n",
    "                # print(temp_R,self.check_schemaInBCNF(temp_R))\n",
    "                bc,vio = self.check_schemaInBCNF(temp_R)\n",
    "                if not bc:##\n",
    "                    # print(allBCNF)\n",
    "                    allBCNF = False\n",
    "                    # print(allBCNF)\n",
    "                    alpha =vio[0]#list\n",
    "                    beta = vio[1]#list\n",
    "                    alpha_set = set(alpha)\n",
    "                    beta_set = set(beta)\n",
    "                    if alpha_set.isdisjoint(beta_set):#alpha和beta的交集为空\n",
    "                        step['decompose_dependency']= vio\n",
    "                        result.remove(temp_R)\n",
    "                        result.append(list(alpha_set.union(beta_set)))\n",
    "                        step['left'] = list(alpha_set.union(beta_set))\n",
    "                        result.append(list(temp_R_set.difference(beta_set)))\n",
    "                        step['right'] = {'root':list(temp_R_set.difference(beta_set))}\n",
    "                        # temp_done = True\n",
    "                    # for s in self.F:\n",
    "                    #     alpha =s[0]#list\n",
    "                    #     beta = s[1]#list\n",
    "                    #     alpha_set = set(alpha)\n",
    "                    #     beta_set = set(beta)\n",
    "                    #     # print(temp_R,'\\n',alpha,beta,'\\t')\n",
    "                    #     if alpha_set.union(beta_set).issubset(temp_R_set):#alpha->beta 是Ri上的函数依赖\n",
    "                    #         # print(alpha_set.union(beta_set).issubset(temp_R_set))\n",
    "                    #         if not beta_set.issubset(alpha_set):#alpha->beta 是非平凡函数依赖\n",
    "                    #             if alpha_set.isdisjoint(beta_set):#alpha和beta的交集为空\n",
    "                    #                 temp = True\n",
    "                    #                 alpha_plus = set(calculate_single_attribute_closure(list(alpha),self.F))\n",
    "                    #                 if temp_R_set.issubset(alpha_plus):\n",
    "                    #                     temp = False\n",
    "                    #                 if temp:\n",
    "                    #                     test += 1\n",
    "                    #                     allBCNF = False\n",
    "                    #                     result.remove(temp_R)\n",
    "                    #                     result.append(list(temp_R_set.difference(beta_set)))\n",
    "                    #                     result.append(list(alpha_set.union(beta_set)))\n",
    "                    #                     temp_done = True\n",
    "                    #                     break\n",
    "                # if temp_done:\n",
    "                #     break\n",
    "            print(allBCNF,'\\t',result,'\\t',test)\n",
    "            if(allBCNF):\n",
    "                done = True\n",
    "        return result,step"
   ],
   "metadata": {
    "collapsed": false,
    "pycharm": {
     "name": "#%%\n"
    }
   }
  },
  {
   "cell_type": "code",
   "execution_count": 348,
   "outputs": [
    {
     "name": "stdout",
     "output_type": "stream",
     "text": [
      "[1, 2, 3, 4] [[[1, 2], [3]], [[3], [4]], [[4], [1]]]\n"
     ]
    }
   ],
   "source": [
    "# R = [i for i in range(1,12)]\n",
    "# F = [[[1],[2,3,4]],[[8,9],[10]],[[1,5,6,7],[8,9,11]]]\n",
    "#answer:[{1, 2, 3, 4}, {8, 9, 10}, {1, 5, 6, 7, 8, 9, 11}]\n",
    "R = [i for i in range(1,4,1)]\n",
    "F = [[[1],[2]],[[2],[3]]]\n",
    "#answer：[[2, 3], [1, 2]]\n",
    "R = [i for i in range(1,5)]\n",
    "F = [[[1,2],[3]],[[3],[4]],[[4],[1]]]\n",
    "print(R,F)"
   ],
   "metadata": {
    "collapsed": false,
    "pycharm": {
     "name": "#%%\n"
    }
   }
  },
  {
   "cell_type": "code",
   "execution_count": 349,
   "outputs": [
    {
     "name": "stdout",
     "output_type": "stream",
     "text": [
      "False \t [[3, 4], [1, 2, 3]] \t 0\n",
      "True \t [[3, 4], [1, 2, 3]] \t 0\n"
     ]
    },
    {
     "data": {
      "text/plain": "([[3, 4], [1, 2, 3]],\n {'root': [1, 2, 3, 4],\n  'decompose_dependency': [[3], [4]],\n  'left': [3, 4],\n  'right': {'root': [1, 2, 3]}})"
     },
     "execution_count": 349,
     "metadata": {},
     "output_type": "execute_result"
    }
   ],
   "source": [
    "nf = NF(R,F)\n",
    "nf.BCNF()"
   ],
   "metadata": {
    "collapsed": false,
    "pycharm": {
     "name": "#%%\n"
    }
   }
  },
  {
   "cell_type": "code",
   "execution_count": 350,
   "outputs": [
    {
     "name": "stdout",
     "output_type": "stream",
     "text": [
      "False \t [[3, 4], [1, 2, 3]] \t 0\n",
      "True \t [[3, 4], [1, 2, 3]] \t 0\n"
     ]
    }
   ],
   "source": [
    "result = nf.BCNF()"
   ],
   "metadata": {
    "collapsed": false,
    "pycharm": {
     "name": "#%%\n"
    }
   }
  },
  {
   "cell_type": "code",
   "execution_count": 351,
   "outputs": [
    {
     "ename": "TypeError",
     "evalue": "unhashable type: 'list'",
     "output_type": "error",
     "traceback": [
      "\u001B[1;31m---------------------------------------------------------------------------\u001B[0m",
      "\u001B[1;31mTypeError\u001B[0m                                 Traceback (most recent call last)",
      "Cell \u001B[1;32mIn[351], line 2\u001B[0m\n\u001B[0;32m      1\u001B[0m \u001B[38;5;28;01mfor\u001B[39;00m j \u001B[38;5;129;01min\u001B[39;00m result:\n\u001B[1;32m----> 2\u001B[0m     bc ,vio\u001B[38;5;241m=\u001B[39m \u001B[43mnf\u001B[49m\u001B[38;5;241;43m.\u001B[39;49m\u001B[43mcheck_schemaInBCNF\u001B[49m\u001B[43m(\u001B[49m\u001B[43mj\u001B[49m\u001B[43m)\u001B[49m\n\u001B[0;32m      3\u001B[0m     \u001B[38;5;28;01mif\u001B[39;00m \u001B[38;5;129;01mnot\u001B[39;00m bc:\n\u001B[0;32m      4\u001B[0m         \u001B[38;5;28mprint\u001B[39m(j,\u001B[38;5;124m'\u001B[39m\u001B[38;5;130;01m\\t\u001B[39;00m\u001B[38;5;124m'\u001B[39m,vio)\n",
      "Cell \u001B[1;32mIn[347], line 29\u001B[0m, in \u001B[0;36mNF.check_schemaInBCNF\u001B[1;34m(self, schemaR)\u001B[0m\n\u001B[0;32m     27\u001B[0m alpha_set \u001B[38;5;241m=\u001B[39m \u001B[38;5;28mset\u001B[39m(i[\u001B[38;5;241m0\u001B[39m])\n\u001B[0;32m     28\u001B[0m beta_set \u001B[38;5;241m=\u001B[39m \u001B[38;5;28mset\u001B[39m(i[\u001B[38;5;241m1\u001B[39m])\n\u001B[1;32m---> 29\u001B[0m \u001B[38;5;28;01mif\u001B[39;00m  \u001B[38;5;129;01mnot\u001B[39;00m beta_set\u001B[38;5;241m.\u001B[39missubset(alpha_set) \u001B[38;5;129;01mand\u001B[39;00m (alpha_set\u001B[38;5;241m.\u001B[39munion(beta_set))\u001B[38;5;241m.\u001B[39missubset(\u001B[38;5;28;43mset\u001B[39;49m\u001B[43m(\u001B[49m\u001B[43mschemaR\u001B[49m\u001B[43m)\u001B[49m):\u001B[38;5;66;03m#保证该依赖是非平凡依赖且在Ri中，可以被分解\u001B[39;00m\n\u001B[0;32m     30\u001B[0m     \u001B[38;5;28;01mif\u001B[39;00m \u001B[38;5;129;01mnot\u001B[39;00m \u001B[38;5;28mself\u001B[39m\u001B[38;5;241m.\u001B[39mcheck_NontrivialDependencyCaseViolationOfBCNF(i,schemaR):\u001B[38;5;66;03m#检查该依赖是否违背BC范式\u001B[39;00m\n\u001B[0;32m     31\u001B[0m     \u001B[38;5;66;03m#     result = True\u001B[39;00m\n\u001B[0;32m     32\u001B[0m     \u001B[38;5;66;03m# else:\u001B[39;00m\n\u001B[0;32m     33\u001B[0m         vio \u001B[38;5;241m=\u001B[39m i\n",
      "\u001B[1;31mTypeError\u001B[0m: unhashable type: 'list'"
     ]
    }
   ],
   "source": [
    "# for j in result:\n",
    "#     bc ,vio= nf.check_schemaInBCNF(j)\n",
    "#     if not bc:\n",
    "#         print(j,'\\t',vio)"
   ],
   "metadata": {
    "collapsed": false,
    "pycharm": {
     "name": "#%%\n"
    }
   }
  },
  {
   "cell_type": "code",
   "execution_count": null,
   "outputs": [],
   "source": [
    "# for s in nf.F:\n",
    "#     if (nf.check_NontrivialDependencyCaseViolationOfBCNF(s,result[2])):\n",
    "#         print(s,calculate_single_attribute_closure(s[0],nf.F))"
   ],
   "metadata": {
    "collapsed": false,
    "pycharm": {
     "name": "#%%\n"
    }
   }
  },
  {
   "cell_type": "code",
   "execution_count": 352,
   "outputs": [
    {
     "name": "stdout",
     "output_type": "stream",
     "text": [
      "[[[1, 2], [3]], [[3], [4]], [[4], [1]]]\n",
      "False \t [[3, 4], [1, 2, 3]] \t 0\n",
      "True \t [[3, 4], [1, 2, 3]] \t 0\n"
     ]
    },
    {
     "data": {
      "text/plain": "([[3, 4], [1, 2, 3]],\n {'root': [1, 2, 3, 4],\n  'decompose_dependency': [[3], [4]],\n  'left': [3, 4],\n  'right': {'root': [1, 2, 3]}})"
     },
     "execution_count": 352,
     "metadata": {},
     "output_type": "execute_result"
    }
   ],
   "source": [
    "F_cover = compute_canonical_cover_set(nf.F)\n",
    "print(F_cover)\n",
    "nf_cover = NF(R,F_cover)\n",
    "nf.BCNF()"
   ],
   "metadata": {
    "collapsed": false,
    "pycharm": {
     "name": "#%%\n"
    }
   }
  },
  {
   "cell_type": "code",
   "execution_count": null,
   "outputs": [],
   "source": [],
   "metadata": {
    "collapsed": false,
    "pycharm": {
     "name": "#%%\n"
    }
   }
  }
 ],
 "metadata": {
  "kernelspec": {
   "display_name": "Anaconda20230403",
   "language": "python",
   "name": "python3"
  },
  "language_info": {
   "codemirror_mode": {
    "name": "ipython",
    "version": 3
   },
   "file_extension": ".py",
   "mimetype": "text/x-python",
   "name": "python",
   "nbconvert_exporter": "python",
   "pygments_lexer": "ipython3",
   "version": "3.10.10"
  },
  "orig_nbformat": 4
 },
 "nbformat": 4,
 "nbformat_minor": 2
}