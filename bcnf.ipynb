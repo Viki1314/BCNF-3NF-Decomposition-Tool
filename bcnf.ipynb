{
 "cells": [
  {
   "cell_type": "code",
   "execution_count": 146,
   "outputs": [],
   "source": [
    "from preparation import *\n",
    "import copy"
   ],
   "metadata": {
    "collapsed": false,
    "pycharm": {
     "name": "#%%\n"
    }
   }
  },
  {
   "cell_type": "code",
   "execution_count": 147,
   "metadata": {},
   "outputs": [],
   "source": [
    "R = ['A','B','C','D','E','F']\n",
    "\n",
    "F = [[['A'],['B']],[['B'],['C','D']],[['D'],['E']],[['C','E'],['F']]]"
   ]
  },
  {
   "cell_type": "code",
   "execution_count": 147,
   "outputs": [],
   "source": [],
   "metadata": {
    "collapsed": false,
    "pycharm": {
     "name": "#%%\n"
    }
   }
  },
  {
   "cell_type": "code",
   "execution_count": 148,
   "outputs": [],
   "source": [
    "class NF:\n",
    "    def __init__(self,R,F):\n",
    "        self.R = R\n",
    "        self.F =F\n",
    "\n",
    "    def check_NontrivialDependencyCaseViolationOfBCNF(self,s,schemaR):\n",
    "        \"\"\"\n",
    "        检查不常用（non-trivial）依赖s是否导致不符合BCNF\n",
    "        :param s:F中的一个依赖\n",
    "        schemaR:list\n",
    "        :return:boolean,True:符合BC范式；False：违背BC范式\n",
    "        \"\"\"\n",
    "        s_plus_set = set(calculate_single_attribute_closure(s[0],self.F))\n",
    "        R_set = set(schemaR)\n",
    "        return R_set.issubset(s_plus_set)\n",
    "        # return schemaR.issubset(s_plus_set)\n",
    "    def check_schemaInBCNF(self,schemaR:list):\n",
    "        result = True\n",
    "        for i in self.F:\n",
    "            alpha_set = set(i[0])\n",
    "            beta_set = set(i[1])\n",
    "            if(not beta_set.issubset(alpha_set) and not self.check_NontrivialDependencyCaseViolationOfBCNF(i,schemaR)):\n",
    "                result = False\n",
    "                break\n",
    "        return result\n",
    "\n",
    "    def BCNF(self):\n",
    "        # R_set = set(self.R)\n",
    "        result = [self.R]\n",
    "        done = False\n",
    "        test = 0\n",
    "        while(not done):\n",
    "            allBCNF = True\n",
    "\n",
    "            for i in range(len(result)):\n",
    "                temp_R = result[i]#list\n",
    "                temp_R_set = set(temp_R)\n",
    "                temp_done = False\n",
    "                if(not self.check_schemaInBCNF(temp_R)):##\n",
    "                    # allBCNF = False\n",
    "                    for s in self.F:\n",
    "                        alpha =s[0]#list\n",
    "                        beta = s[1]#list\n",
    "                        alpha_set = set(alpha)\n",
    "                        beta_set = set(beta)\n",
    "                        # print(temp_R,'\\n',alpha,beta,'\\t')\n",
    "                        if alpha_set.union(beta_set).issubset(temp_R_set):#alpha->beta 是Ri上的函数依赖\n",
    "                            # print(alpha_set.union(beta_set).issubset(temp_R_set))\n",
    "                            if not beta_set.issubset(alpha_set):#alpha->beta 是非平凡函数依赖\n",
    "                                if alpha_set.isdisjoint(beta_set):#alpha和beta的交集为空\n",
    "                                    temp = True\n",
    "                                    alpha_plus = set(calculate_single_attribute_closure(list(alpha),self.F))\n",
    "                                    if temp_R_set.issubset(alpha_plus):\n",
    "                                        temp = False\n",
    "                                    if temp:\n",
    "                                        test += 1\n",
    "                                        allBCNF = False\n",
    "                                        result.remove(temp_R)\n",
    "                                        result.append(list(temp_R_set.difference(beta_set)))\n",
    "                                        result.append(list(alpha_set.union(beta_set)))\n",
    "                                        temp_done = True\n",
    "                                        break\n",
    "                if temp_done:\n",
    "                    break\n",
    "            print(result,'\\t',test)\n",
    "            if(allBCNF):\n",
    "                done = True\n",
    "        return result"
   ],
   "metadata": {
    "collapsed": false,
    "pycharm": {
     "name": "#%%\n"
    }
   }
  },
  {
   "cell_type": "code",
   "execution_count": 149,
   "outputs": [
    {
     "name": "stdout",
     "output_type": "stream",
     "text": [
      "[1, 2, 3, 4, 5, 6] [[[2], [6]], [[3, 5], [2]], [[3], [1]], [[3, 5], [6]], [[2], [4]], [[3], [4]]]\n"
     ]
    }
   ],
   "source": [
    "R = [i for i in range(1,12)]\n",
    "F = [[[1],[2,3,4]],[[8,9],[10]],[[1,5,6,7],[8,9,11]]]\n",
    "#answer:[{1, 2, 3, 4}, {8, 9, 10}, {1, 5, 6, 7, 8, 9, 11}, set()]\n",
    "# R = [i for i in range(1,6,1)]\n",
    "# F = [[[1],[2]],[[2,3],[4]]]\n",
    "# R = [i for i in range(1,4,1)]\n",
    "# F = [[[1],[2]],[[2],[3]]]\n",
    "R = [i for i in range(1,7)]\n",
    "F = [[[2],[6]],[[3,5],[2]],[[3],[1]],[[3,5],[6]],[[2],[4]],[[3],[4]]]\n",
    "print(R,F)"
   ],
   "metadata": {
    "collapsed": false,
    "pycharm": {
     "name": "#%%\n"
    }
   }
  },
  {
   "cell_type": "code",
   "execution_count": 150,
   "outputs": [
    {
     "name": "stdout",
     "output_type": "stream",
     "text": [
      "[[1, 2, 3, 4, 5], [2, 6]] \t 1\n",
      "[[2, 6], [2, 3, 4, 5], [1, 3]] \t 2\n",
      "[[2, 6], [1, 3], [2, 3, 5], [2, 4]] \t 3\n",
      "[[2, 6], [1, 3], [2, 3, 5], [2, 4]] \t 3\n"
     ]
    },
    {
     "data": {
      "text/plain": "[[2, 6], [1, 3], [2, 3, 5], [2, 4]]"
     },
     "execution_count": 150,
     "metadata": {},
     "output_type": "execute_result"
    }
   ],
   "source": [
    "nf = NF(R,F)\n",
    "# print(nf.R,nf.F)\n",
    "# print(nf.BCNF())\n",
    "nf.BCNF()"
   ],
   "metadata": {
    "collapsed": false,
    "pycharm": {
     "name": "#%%\n"
    }
   }
  },
  {
   "cell_type": "code",
   "execution_count": 151,
   "outputs": [
    {
     "name": "stdout",
     "output_type": "stream",
     "text": [
      "[[1, 2, 3, 4, 5], [2, 6]] \t 1\n",
      "[[2, 6], [2, 3, 4, 5], [1, 3]] \t 2\n",
      "[[2, 6], [1, 3], [2, 3, 5], [2, 4]] \t 3\n",
      "[[2, 6], [1, 3], [2, 3, 5], [2, 4]] \t 3\n",
      "[[2, 6], [1, 3], [2, 3, 5], [2, 4]]\n"
     ]
    }
   ],
   "source": [
    "print(nf.BCNF())"
   ],
   "metadata": {
    "collapsed": false,
    "pycharm": {
     "name": "#%%\n"
    }
   }
  },
  {
   "cell_type": "code",
   "execution_count": 151,
   "outputs": [],
   "source": [],
   "metadata": {
    "collapsed": false,
    "pycharm": {
     "name": "#%%\n"
    }
   }
  },
  {
   "cell_type": "code",
   "execution_count": 151,
   "outputs": [],
   "source": [],
   "metadata": {
    "collapsed": false,
    "pycharm": {
     "name": "#%%\n"
    }
   }
  }
 ],
 "metadata": {
  "kernelspec": {
   "display_name": "Anaconda20230403",
   "language": "python",
   "name": "python3"
  },
  "language_info": {
   "codemirror_mode": {
    "name": "ipython",
    "version": 3
   },
   "file_extension": ".py",
   "mimetype": "text/x-python",
   "name": "python",
   "nbconvert_exporter": "python",
   "pygments_lexer": "ipython3",
   "version": "3.10.10"
  },
  "orig_nbformat": 4
 },
 "nbformat": 4,
 "nbformat_minor": 2
}