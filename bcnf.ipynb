{
 "cells": [
  {
   "cell_type": "code",
   "execution_count": 18,
   "metadata": {
    "collapsed": false,
    "pycharm": {
     "name": "#%%\n"
    }
   },
   "outputs": [],
   "source": [
    "from preparation import *\n",
    "import copy"
   ]
  },
  {
   "cell_type": "code",
   "execution_count": 19,
   "metadata": {},
   "outputs": [],
   "source": [
    "R = ['A','B','C','D','E','F']\n",
    "\n",
    "F = [[['A'],['B']],[['B'],['C','D']],[['D'],['E']],[['C','E'],['F']]]"
   ]
  },
  {
   "cell_type": "code",
   "execution_count": 19,
   "metadata": {
    "collapsed": false,
    "pycharm": {
     "name": "#%%\n"
    }
   },
   "outputs": [],
   "source": []
  },
  {
   "cell_type": "code",
   "execution_count": 20,
   "metadata": {
    "collapsed": false,
    "pycharm": {
     "name": "#%%\n"
    }
   },
   "outputs": [],
   "source": [
    "class NF:\n",
    "    def __init__(self,R,F):\n",
    "        self.R = R\n",
    "        self.F =F\n",
    "\n",
    "    def check_NontrivialDependencyCaseViolationOfBCNF(self,s,schemaR):\n",
    "        \"\"\"\n",
    "        检查不常用（non-trivial）依赖s是否导致不符合BCNF\n",
    "        :param s:F中的一个在schemaR上的非平凡依赖;ex:[['A'],['B']]\n",
    "        schemaR:list,表的属性;ex:['A','B','C','D','E','F']\n",
    "        :return:boolean,True:符合BC范式；False：违背BC范式\n",
    "        \"\"\"\n",
    "        s_plus_set = set(calculate_single_attribute_closure(s[0],self.F))\n",
    "        R_set = set(schemaR)\n",
    "        # print(s_plus_set,'\\t',R_set,'\\t',R_set.issubset(s_plus_set))\n",
    "        return   R_set.issubset(s_plus_set)\n",
    "        # return schemaR.issubset(s_plus_set)\n",
    "    def check_schemaInBCNF(self,schemaR:list):\n",
    "        \"\"\"\n",
    "        检查schena是否符合BC范式\n",
    "        :param schemaR: list,表的属性;ex:['A','B','C','D','E','F']\n",
    "        :return: boolean,True:符合BC范式；False：违背BC范式\n",
    "        \"\"\"\n",
    "        result = True\n",
    "        vio = None\n",
    "        for i in self.F:\n",
    "            alpha_set = set(i[0])\n",
    "            beta_set = set(i[1])\n",
    "            if  not beta_set.issubset(alpha_set) and (alpha_set.union(beta_set)).issubset(set(schemaR)):#保证该依赖是非平凡依赖且在Ri中，可以被分解\n",
    "                if not self.check_NontrivialDependencyCaseViolationOfBCNF(i,schemaR):#检查该依赖是否违背BC范式\n",
    "                #     result = True\n",
    "                # else:\n",
    "                    vio = i\n",
    "                    result = False\n",
    "                    break\n",
    "        return result,vio\n",
    "    def get_nontrival(self,dependency):\n",
    "        \"\"\"\n",
    "        去除dependency中的平凡依赖，保存非平凡依赖\n",
    "        :param dependency: 函数依赖集（3-dimension list）\n",
    "        :return: 非平凡依赖集，3-dimension list\n",
    "        \"\"\"\n",
    "        result = []\n",
    "        for i in dependency:\n",
    "            if not set(i[1]).issubset(set(i[0])):\n",
    "                result.append(i)\n",
    "        return  result\n",
    "\n",
    "    def BCNF(self):\n",
    "        \"\"\"\n",
    "        BC范式分解\n",
    "        :return: BC范式分解结果\n",
    "        \"\"\"\n",
    "        result = [self.R]\n",
    "        done = False\n",
    "        test = 0\n",
    "        step = {'root':self.R}\n",
    "        decompose_times = 0\n",
    "        # F_plus_nontrival = self.get_nontrival(calculate_function_dependency_closure_set_by_armstrong_axioms(self.R,self.F))\n",
    "        F_plus = calculate_function_dependency_closure_set_by_armstrong_axioms(self.R,self.F)##优化\n",
    "        while(not done):\n",
    "            allBCNF = True\n",
    "            for i in range(len(result)):\n",
    "                temp_R = result[i]#list\n",
    "                temp_R_set = set(temp_R)\n",
    "                temp_done = False\n",
    "                # print(temp_R,self.check_schemaInBCNF(temp_R))\n",
    "                bc,vio = self.check_schemaInBCNF(temp_R)#检查Ri属于BCNF\n",
    "                if not bc:#\n",
    "                    # print(allBCNF)\n",
    "                    allBCNF = False\n",
    "                    # print(allBCNF)\n",
    "                    alpha =vio[0]#list\n",
    "                    beta = vio[1]#list\n",
    "                    alpha_set = set(alpha)\n",
    "                    beta_set = set(beta)\n",
    "                    if alpha_set.isdisjoint(beta_set):#alpha和beta的交集为空\n",
    "                        decompose = True\n",
    "                        for j in F_plus:\n",
    "                            if j[0] == alpha  and j[1] == temp_R:\n",
    "                                decompose = False\n",
    "                                break\n",
    "                        if decompose:\n",
    "                            temp_step = step\n",
    "                            for i in range(decompose_times):\n",
    "                                temp_step = step['right']\n",
    "                            # step['decompose_dependency']= vio\n",
    "                            decompose_times +=1\n",
    "                            temp_step['decompose_dependency']= vio\n",
    "                            result.remove(temp_R)\n",
    "                            result.append(list(alpha_set.union(beta_set)))\n",
    "                            # step['left'] = list(alpha_set.union(beta_set))\n",
    "                            temp_step['left'] = list(alpha_set.union(beta_set))\n",
    "                            result.append(list(temp_R_set.difference(beta_set)))\n",
    "                            # step['right'] = {'root':list(temp_R_set.difference(beta_set))}\n",
    "                            temp_step['right'] = {'root':list(temp_R_set.difference(beta_set))}\n",
    "                        # temp_done = True\n",
    "                    # for s in self.F:\n",
    "                    #     alpha =s[0]#list\n",
    "                    #     beta = s[1]#list\n",
    "                    #     alpha_set = set(alpha)\n",
    "                    #     beta_set = set(beta)\n",
    "                    #     # print(temp_R,'\\n',alpha,beta,'\\t')\n",
    "                    #     if alpha_set.union(beta_set).issubset(temp_R_set):#alpha->beta 是Ri上的函数依赖\n",
    "                    #         # print(alpha_set.union(beta_set).issubset(temp_R_set))\n",
    "                    #         if not beta_set.issubset(alpha_set):#alpha->beta 是非平凡函数依赖\n",
    "                    #             if alpha_set.isdisjoint(beta_set):#alpha和beta的交集为空\n",
    "                    #                 temp = True\n",
    "                    #                 alpha_plus = set(calculate_single_attribute_closure(list(alpha),self.F))\n",
    "                    #                 if temp_R_set.issubset(alpha_plus):\n",
    "                    #                     temp = False\n",
    "                    #                 if temp:\n",
    "                    #                     test += 1\n",
    "                    #                     allBCNF = False\n",
    "                    #                     result.remove(temp_R)\n",
    "                    #                     result.append(list(temp_R_set.difference(beta_set)))\n",
    "                    #                     result.append(list(alpha_set.union(beta_set)))\n",
    "                    #                     temp_done = True\n",
    "                    #                     break\n",
    "                # if temp_done:\n",
    "                #     break\n",
    "            print(allBCNF,'\\t',result,'\\t',test,'\\t',step,'\\t','\\n')\n",
    "            if(allBCNF):\n",
    "                done = True\n",
    "        return result,step"
   ]
  },
  {
   "cell_type": "code",
   "execution_count": 21,
   "metadata": {
    "collapsed": false,
    "pycharm": {
     "name": "#%%\n"
    }
   },
   "outputs": [
    {
     "name": "stdout",
     "output_type": "stream",
     "text": [
      "[1, 2, 3, 4, 5, 6, 7, 8, 9, 10, 11] [[[1], [2, 3, 4]], [[8, 9], [10]], [[1, 5, 6, 7], [8, 9, 11]]]\n"
     ]
    }
   ],
   "source": [
    "R = [i for i in range(1,12)]\n",
    "F = [[[1],[2,3,4]],[[8,9],[10]],[[1,5,6,7],[8,9,11]]]\n",
    "#answer:[{1, 2, 3, 4}, {8, 9, 10}, {1, 5, 6, 7, 8, 9, 11}]\n",
    "R = [i for i in range(1,4,1)]\n",
    "F = [[[1],[2]],[[2],[3]]]\n",
    "#answer：[[2, 3], [1, 2]]\n",
    "# R = [i for i in range(1,5)]\n",
    "# F = [[[1,2],[3]],[[3],[4]],[[4],[1]]]\n",
    "# [[1.4],[3,4],[2,3]]\n",
    "# R = [i for i in range(1,5)]\n",
    "# F = [[[2],[3]],[[2],[4]]]\n",
    "#[[2,3,4],[1,2]]\n",
    "print(R,F)"
   ]
  },
  {
   "cell_type": "code",
   "execution_count": 22,
   "metadata": {
    "collapsed": false,
    "pycharm": {
     "name": "#%%\n"
    }
   },
   "outputs": [
    {
     "name": "stdout",
     "output_type": "stream",
     "text": [
      "False \t [[1, 2, 3, 4], [1, 5, 6, 7, 8, 9, 10, 11]] \t 0 \t {'root': [1, 2, 3, 4, 5, 6, 7, 8, 9, 10, 11], 'decompose_dependency': [[1], [2, 3, 4]], 'left': [1, 2, 3, 4], 'right': {'root': [1, 5, 6, 7, 8, 9, 10, 11]}} \t \n",
      "\n",
      "False \t [[1, 2, 3, 4], [8, 9, 10], [1, 5, 6, 7, 8, 9, 11]] \t 0 \t {'root': [1, 2, 3, 4, 5, 6, 7, 8, 9, 10, 11], 'decompose_dependency': [[1], [2, 3, 4]], 'left': [1, 2, 3, 4], 'right': {'root': [1, 5, 6, 7, 8, 9, 10, 11], 'decompose_dependency': [[8, 9], [10]], 'left': [8, 9, 10], 'right': {'root': [1, 5, 6, 7, 8, 9, 11]}}} \t \n",
      "\n",
      "True \t [[1, 2, 3, 4], [8, 9, 10], [1, 5, 6, 7, 8, 9, 11]] \t 0 \t {'root': [1, 2, 3, 4, 5, 6, 7, 8, 9, 10, 11], 'decompose_dependency': [[1], [2, 3, 4]], 'left': [1, 2, 3, 4], 'right': {'root': [1, 5, 6, 7, 8, 9, 10, 11], 'decompose_dependency': [[8, 9], [10]], 'left': [8, 9, 10], 'right': {'root': [1, 5, 6, 7, 8, 9, 11]}}} \t \n",
      "\n",
      "235.91945457458496\n"
     ]
    }
   ],
   "source": [
    "nf = NF(R,F)\n",
    "import  time\n",
    "starttime = time.time()\n",
    "nf.BCNF()\n",
    "print(time.time()-starttime)"
   ]
  },
  {
   "cell_type": "code",
   "execution_count": 23,
   "metadata": {
    "collapsed": false,
    "pycharm": {
     "name": "#%%\n"
    }
   },
   "outputs": [
    {
     "name": "stdout",
     "output_type": "stream",
     "text": [
      "Unexpected exception formatting exception. Falling back to standard exception\n"
     ]
    },
    {
     "name": "stderr",
     "output_type": "stream",
     "text": [
      "Traceback (most recent call last):\n",
      "  File \"I:\\software\\python\\anaconda3\\lib\\site-packages\\IPython\\core\\interactiveshell.py\", line 3460, in run_code\n",
      "    exec(code_obj, self.user_global_ns, self.user_ns)\n",
      "  File \"C:\\Users\\Administrator\\AppData\\Local\\Temp\\ipykernel_22344\\269470051.py\", line 1, in <module>\n",
      "    result = nf.BCNF()\n",
      "  File \"C:\\Users\\Administrator\\AppData\\Local\\Temp\\ipykernel_22344\\2570534610.py\", line 60, in BCNF\n",
      "    F_plus = calculate_function_dependency_closure_set_by_armstrong_axioms(self.R,self.F)##优化\n",
      "  File \"G:\\SCUT2\\github_project\\DataBase\\preparation.py\", line 121, in calculate_function_dependency_closure_set_by_armstrong_axioms\n",
      "    F = transitivity_rule(R,F)\n",
      "  File \"G:\\SCUT2\\github_project\\DataBase\\preparation.py\", line -1, in transitivity_rule\n",
      "KeyboardInterrupt\n",
      "\n",
      "During handling of the above exception, another exception occurred:\n",
      "\n",
      "Traceback (most recent call last):\n",
      "  File \"I:\\software\\python\\anaconda3\\lib\\site-packages\\IPython\\core\\interactiveshell.py\", line 2057, in showtraceback\n",
      "    stb = self.InteractiveTB.structured_traceback(\n",
      "  File \"I:\\software\\python\\anaconda3\\lib\\site-packages\\IPython\\core\\ultratb.py\", line 1118, in structured_traceback\n",
      "    return FormattedTB.structured_traceback(\n",
      "  File \"I:\\software\\python\\anaconda3\\lib\\site-packages\\IPython\\core\\ultratb.py\", line 1012, in structured_traceback\n",
      "    return VerboseTB.structured_traceback(\n",
      "  File \"I:\\software\\python\\anaconda3\\lib\\site-packages\\IPython\\core\\ultratb.py\", line 865, in structured_traceback\n",
      "    formatted_exception = self.format_exception_as_a_whole(etype, evalue, etb, number_of_lines_of_context,\n",
      "  File \"I:\\software\\python\\anaconda3\\lib\\site-packages\\IPython\\core\\ultratb.py\", line 818, in format_exception_as_a_whole\n",
      "    frames.append(self.format_record(r))\n",
      "  File \"I:\\software\\python\\anaconda3\\lib\\site-packages\\IPython\\core\\ultratb.py\", line 736, in format_record\n",
      "    result += ''.join(_format_traceback_lines(frame_info.lines, Colors, self.has_colors, lvals))\n",
      "  File \"I:\\software\\python\\anaconda3\\lib\\site-packages\\stack_data\\utils.py\", line 145, in cached_property_wrapper\n",
      "    value = obj.__dict__[self.func.__name__] = self.func(obj)\n",
      "  File \"I:\\software\\python\\anaconda3\\lib\\site-packages\\stack_data\\core.py\", line 698, in lines\n",
      "    pieces = self.included_pieces\n",
      "  File \"I:\\software\\python\\anaconda3\\lib\\site-packages\\stack_data\\utils.py\", line 145, in cached_property_wrapper\n",
      "    value = obj.__dict__[self.func.__name__] = self.func(obj)\n",
      "  File \"I:\\software\\python\\anaconda3\\lib\\site-packages\\stack_data\\core.py\", line 649, in included_pieces\n",
      "    pos = scope_pieces.index(self.executing_piece)\n",
      "  File \"I:\\software\\python\\anaconda3\\lib\\site-packages\\stack_data\\utils.py\", line 145, in cached_property_wrapper\n",
      "    value = obj.__dict__[self.func.__name__] = self.func(obj)\n",
      "  File \"I:\\software\\python\\anaconda3\\lib\\site-packages\\stack_data\\core.py\", line 628, in executing_piece\n",
      "    return only(\n",
      "  File \"I:\\software\\python\\anaconda3\\lib\\site-packages\\executing\\executing.py\", line 164, in only\n",
      "    raise NotOneValueFound('Expected one value, found 0')\n",
      "executing.executing.NotOneValueFound: Expected one value, found 0\n"
     ]
    }
   ],
   "source": [
    "result = nf.BCNF()"
   ]
  },
  {
   "cell_type": "code",
   "execution_count": null,
   "metadata": {
    "collapsed": false,
    "pycharm": {
     "name": "#%%\n"
    }
   },
   "outputs": [],
   "source": [
    "# for j in result:\n",
    "#     bc ,vio= nf.check_schemaInBCNF(j)\n",
    "#     if not bc:\n",
    "#         print(j,'\\t',vio)"
   ]
  },
  {
   "cell_type": "code",
   "execution_count": null,
   "metadata": {
    "collapsed": false,
    "pycharm": {
     "name": "#%%\n"
    }
   },
   "outputs": [],
   "source": [
    "# for s in nf.F:\n",
    "#     if (nf.check_NontrivialDependencyCaseViolationOfBCNF(s,result[2])):\n",
    "#         print(s,calculate_single_attribute_closure(s[0],nf.F))"
   ]
  },
  {
   "cell_type": "code",
   "execution_count": null,
   "metadata": {
    "collapsed": false,
    "pycharm": {
     "name": "#%%\n"
    }
   },
   "outputs": [],
   "source": [
    "F_cover = compute_canonical_cover_set(nf.F)\n",
    "print(F_cover)\n",
    "nf_cover = NF(R,F_cover)\n",
    "nf.BCNF()"
   ]
  },
  {
   "cell_type": "code",
   "execution_count": null,
   "metadata": {
    "collapsed": false,
    "pycharm": {
     "name": "#%%\n"
    }
   },
   "outputs": [],
   "source": [
    "import preparation\n",
    "\n",
    "preparation.calculate_function_dependency_closure_set_by_armstrong_axioms(nf.R,nf.F)"
   ]
  },
  {
   "cell_type": "code",
   "execution_count": null,
   "metadata": {
    "collapsed": false,
    "pycharm": {
     "name": "#%%\n"
    }
   },
   "outputs": [],
   "source": []
  }
 ],
 "metadata": {
  "kernelspec": {
   "display_name": "Python 3.10.8 64-bit",
   "language": "python",
   "name": "python3"
  },
  "language_info": {
   "codemirror_mode": {
    "name": "ipython",
    "version": 3
   },
   "file_extension": ".py",
   "mimetype": "text/x-python",
   "name": "python",
   "nbconvert_exporter": "python",
   "pygments_lexer": "ipython3",
   "version": "3.10.8"
  },
  "orig_nbformat": 4,
  "vscode": {
   "interpreter": {
    "hash": "3196968d684371006099b3d55edeef8ed90365227a30deaef86e5d4aa8519be0"
   }
  }
 },
 "nbformat": 4,
 "nbformat_minor": 2
}
